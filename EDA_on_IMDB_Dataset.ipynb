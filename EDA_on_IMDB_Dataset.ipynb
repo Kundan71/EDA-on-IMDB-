{
  "nbformat": 4,
  "nbformat_minor": 0,
  "metadata": {
    "kernelspec": {
      "display_name": "Python 3",
      "language": "python",
      "name": "python3"
    },
    "language_info": {
      "codemirror_mode": {
        "name": "ipython",
        "version": 3
      },
      "file_extension": ".py",
      "mimetype": "text/x-python",
      "name": "python",
      "nbconvert_exporter": "python",
      "pygments_lexer": "ipython3",
      "version": "3.7.1"
    },
    "colab": {
      "name": "EDA on IMDB Dataset.ipynb",
      "provenance": [],
      "collapsed_sections": [],
      "include_colab_link": true
    }
  },
  "cells": [
    {
      "cell_type": "markdown",
      "metadata": {
        "id": "view-in-github",
        "colab_type": "text"
      },
      "source": [
        "<a href=\"https://colab.research.google.com/github/Kundan71/EDA-on-IMDB-/blob/main/EDA_on_IMDB_Dataset.ipynb\" target=\"_parent\"><img src=\"https://colab.research.google.com/assets/colab-badge.svg\" alt=\"Open In Colab\"/></a>"
      ]
    },
    {
      "cell_type": "markdown",
      "metadata": {
        "id": "3_Fv7J8jTBlu"
      },
      "source": [
        "## You have been hired by a rookie movie producer to help him decide what type of movies to produce and which actors to cast. You have to back your recommendations based on thorough analysis of the data he shared with you which has the list of 3000 movies and the corresponding details.\n",
        "\n",
        "## As a data scientist, you have to first explore the data and check its sanity.\n",
        "\n",
        "## Further, you have to answer the following questions:\n",
        "1. ### <b> Which movie made the highest profit? Who were its producer and director? Identify the actors in that film.</b>\n",
        "2. ### <b>This data has information about movies made in different languages. Which language has the highest average ROI (return on investment)? </b>\n",
        "3. ### <b> Find out the unique genres of movies in this dataset.</b>\n",
        "4. ### <b> Make a table of all the producers and directors of each movie. Find the top 3 producers who have produced movies with the highest average RoI? </b>\n",
        "5. ### <b> Which actor has acted in the most number of movies? Deep dive into the movies, genres and profits corresponding to this actor. </b>\n",
        "6. ### <b>Top 3 directors prefer which actors the most? </b>\n",
        "\n"
      ]
    },
    {
      "cell_type": "markdown",
      "metadata": {
        "id": "Fx8CVjtZW_BF"
      },
      "source": [
        "# Data Exploration"
      ]
    },
    {
      "cell_type": "code",
      "metadata": {
        "id": "vq7iMfybnKNP"
      },
      "source": [
        "#Import package\n",
        "import pandas as pd\n",
        "import numpy as np"
      ],
      "execution_count": null,
      "outputs": []
    },
    {
      "cell_type": "code",
      "metadata": {
        "colab": {
          "base_uri": "https://localhost:8080/"
        },
        "id": "e-vGPGsNcIjn",
        "outputId": "98b031bd-b43e-443e-9b91-5ffb7cba8cf7"
      },
      "source": [
        "from google.colab import drive\n",
        "drive.mount('/content/drive')"
      ],
      "execution_count": null,
      "outputs": [
        {
          "output_type": "stream",
          "text": [
            "Mounted at /content/drive\n"
          ],
          "name": "stdout"
        }
      ]
    },
    {
      "cell_type": "code",
      "metadata": {
        "id": "02Kr1jI3cXh6"
      },
      "source": [
        "file_path = '/content/drive/MyDrive/Colab Notebooks/Module 1/Projects/data/Copy of imdb_data.csv'\n",
        "imdb_df=pd.read_csv(file_path)"
      ],
      "execution_count": null,
      "outputs": []
    },
    {
      "cell_type": "code",
      "metadata": {
        "colab": {
          "base_uri": "https://localhost:8080/"
        },
        "id": "CcJ-h_40cmDC",
        "outputId": "62768ba9-ea4a-4b95-87fc-890abc238c85"
      },
      "source": [
        "imdb_df.shape"
      ],
      "execution_count": null,
      "outputs": [
        {
          "output_type": "execute_result",
          "data": {
            "text/plain": [
              "(3000, 23)"
            ]
          },
          "metadata": {},
          "execution_count": 5
        }
      ]
    },
    {
      "cell_type": "code",
      "metadata": {
        "colab": {
          "base_uri": "https://localhost:8080/",
          "height": 632
        },
        "id": "un6V9LXRcpSR",
        "outputId": "f0323c23-9e13-4795-ed9f-252ca363d22f"
      },
      "source": [
        "imdb_df.head()"
      ],
      "execution_count": null,
      "outputs": [
        {
          "output_type": "execute_result",
          "data": {
            "text/html": [
              "<div>\n",
              "<style scoped>\n",
              "    .dataframe tbody tr th:only-of-type {\n",
              "        vertical-align: middle;\n",
              "    }\n",
              "\n",
              "    .dataframe tbody tr th {\n",
              "        vertical-align: top;\n",
              "    }\n",
              "\n",
              "    .dataframe thead th {\n",
              "        text-align: right;\n",
              "    }\n",
              "</style>\n",
              "<table border=\"1\" class=\"dataframe\">\n",
              "  <thead>\n",
              "    <tr style=\"text-align: right;\">\n",
              "      <th></th>\n",
              "      <th>id</th>\n",
              "      <th>belongs_to_collection</th>\n",
              "      <th>budget</th>\n",
              "      <th>genres</th>\n",
              "      <th>homepage</th>\n",
              "      <th>imdb_id</th>\n",
              "      <th>original_language</th>\n",
              "      <th>original_title</th>\n",
              "      <th>overview</th>\n",
              "      <th>popularity</th>\n",
              "      <th>poster_path</th>\n",
              "      <th>production_companies</th>\n",
              "      <th>production_countries</th>\n",
              "      <th>release_date</th>\n",
              "      <th>runtime</th>\n",
              "      <th>spoken_languages</th>\n",
              "      <th>status</th>\n",
              "      <th>tagline</th>\n",
              "      <th>title</th>\n",
              "      <th>Keywords</th>\n",
              "      <th>cast</th>\n",
              "      <th>crew</th>\n",
              "      <th>revenue</th>\n",
              "    </tr>\n",
              "  </thead>\n",
              "  <tbody>\n",
              "    <tr>\n",
              "      <th>0</th>\n",
              "      <td>1</td>\n",
              "      <td>[{'id': 313576, 'name': 'Hot Tub Time Machine ...</td>\n",
              "      <td>14000000</td>\n",
              "      <td>[{'id': 35, 'name': 'Comedy'}]</td>\n",
              "      <td>NaN</td>\n",
              "      <td>tt2637294</td>\n",
              "      <td>en</td>\n",
              "      <td>Hot Tub Time Machine 2</td>\n",
              "      <td>When Lou, who has become the \"father of the In...</td>\n",
              "      <td>6.575393</td>\n",
              "      <td>/tQtWuwvMf0hCc2QR2tkolwl7c3c.jpg</td>\n",
              "      <td>[{'name': 'Paramount Pictures', 'id': 4}, {'na...</td>\n",
              "      <td>[{'iso_3166_1': 'US', 'name': 'United States o...</td>\n",
              "      <td>2/20/15</td>\n",
              "      <td>93.0</td>\n",
              "      <td>[{'iso_639_1': 'en', 'name': 'English'}]</td>\n",
              "      <td>Released</td>\n",
              "      <td>The Laws of Space and Time are About to be Vio...</td>\n",
              "      <td>Hot Tub Time Machine 2</td>\n",
              "      <td>[{'id': 4379, 'name': 'time travel'}, {'id': 9...</td>\n",
              "      <td>[{'cast_id': 4, 'character': 'Lou', 'credit_id...</td>\n",
              "      <td>[{'credit_id': '59ac067c92514107af02c8c8', 'de...</td>\n",
              "      <td>12314651</td>\n",
              "    </tr>\n",
              "    <tr>\n",
              "      <th>1</th>\n",
              "      <td>2</td>\n",
              "      <td>[{'id': 107674, 'name': 'The Princess Diaries ...</td>\n",
              "      <td>40000000</td>\n",
              "      <td>[{'id': 35, 'name': 'Comedy'}, {'id': 18, 'nam...</td>\n",
              "      <td>NaN</td>\n",
              "      <td>tt0368933</td>\n",
              "      <td>en</td>\n",
              "      <td>The Princess Diaries 2: Royal Engagement</td>\n",
              "      <td>Mia Thermopolis is now a college graduate and ...</td>\n",
              "      <td>8.248895</td>\n",
              "      <td>/w9Z7A0GHEhIp7etpj0vyKOeU1Wx.jpg</td>\n",
              "      <td>[{'name': 'Walt Disney Pictures', 'id': 2}]</td>\n",
              "      <td>[{'iso_3166_1': 'US', 'name': 'United States o...</td>\n",
              "      <td>8/6/04</td>\n",
              "      <td>113.0</td>\n",
              "      <td>[{'iso_639_1': 'en', 'name': 'English'}]</td>\n",
              "      <td>Released</td>\n",
              "      <td>It can take a lifetime to find true love; she'...</td>\n",
              "      <td>The Princess Diaries 2: Royal Engagement</td>\n",
              "      <td>[{'id': 2505, 'name': 'coronation'}, {'id': 42...</td>\n",
              "      <td>[{'cast_id': 1, 'character': 'Mia Thermopolis'...</td>\n",
              "      <td>[{'credit_id': '52fe43fe9251416c7502563d', 'de...</td>\n",
              "      <td>95149435</td>\n",
              "    </tr>\n",
              "    <tr>\n",
              "      <th>2</th>\n",
              "      <td>3</td>\n",
              "      <td>NaN</td>\n",
              "      <td>3300000</td>\n",
              "      <td>[{'id': 18, 'name': 'Drama'}]</td>\n",
              "      <td>http://sonyclassics.com/whiplash/</td>\n",
              "      <td>tt2582802</td>\n",
              "      <td>en</td>\n",
              "      <td>Whiplash</td>\n",
              "      <td>Under the direction of a ruthless instructor, ...</td>\n",
              "      <td>64.299990</td>\n",
              "      <td>/lIv1QinFqz4dlp5U4lQ6HaiskOZ.jpg</td>\n",
              "      <td>[{'name': 'Bold Films', 'id': 2266}, {'name': ...</td>\n",
              "      <td>[{'iso_3166_1': 'US', 'name': 'United States o...</td>\n",
              "      <td>10/10/14</td>\n",
              "      <td>105.0</td>\n",
              "      <td>[{'iso_639_1': 'en', 'name': 'English'}]</td>\n",
              "      <td>Released</td>\n",
              "      <td>The road to greatness can take you to the edge.</td>\n",
              "      <td>Whiplash</td>\n",
              "      <td>[{'id': 1416, 'name': 'jazz'}, {'id': 1523, 'n...</td>\n",
              "      <td>[{'cast_id': 5, 'character': 'Andrew Neimann',...</td>\n",
              "      <td>[{'credit_id': '54d5356ec3a3683ba0000039', 'de...</td>\n",
              "      <td>13092000</td>\n",
              "    </tr>\n",
              "    <tr>\n",
              "      <th>3</th>\n",
              "      <td>4</td>\n",
              "      <td>NaN</td>\n",
              "      <td>1200000</td>\n",
              "      <td>[{'id': 53, 'name': 'Thriller'}, {'id': 18, 'n...</td>\n",
              "      <td>http://kahaanithefilm.com/</td>\n",
              "      <td>tt1821480</td>\n",
              "      <td>hi</td>\n",
              "      <td>Kahaani</td>\n",
              "      <td>Vidya Bagchi (Vidya Balan) arrives in Kolkata ...</td>\n",
              "      <td>3.174936</td>\n",
              "      <td>/aTXRaPrWSinhcmCrcfJK17urp3F.jpg</td>\n",
              "      <td>NaN</td>\n",
              "      <td>[{'iso_3166_1': 'IN', 'name': 'India'}]</td>\n",
              "      <td>3/9/12</td>\n",
              "      <td>122.0</td>\n",
              "      <td>[{'iso_639_1': 'en', 'name': 'English'}, {'iso...</td>\n",
              "      <td>Released</td>\n",
              "      <td>NaN</td>\n",
              "      <td>Kahaani</td>\n",
              "      <td>[{'id': 10092, 'name': 'mystery'}, {'id': 1054...</td>\n",
              "      <td>[{'cast_id': 1, 'character': 'Vidya Bagchi', '...</td>\n",
              "      <td>[{'credit_id': '52fe48779251416c9108d6eb', 'de...</td>\n",
              "      <td>16000000</td>\n",
              "    </tr>\n",
              "    <tr>\n",
              "      <th>4</th>\n",
              "      <td>5</td>\n",
              "      <td>NaN</td>\n",
              "      <td>0</td>\n",
              "      <td>[{'id': 28, 'name': 'Action'}, {'id': 53, 'nam...</td>\n",
              "      <td>NaN</td>\n",
              "      <td>tt1380152</td>\n",
              "      <td>ko</td>\n",
              "      <td>마린보이</td>\n",
              "      <td>Marine Boy is the story of a former national s...</td>\n",
              "      <td>1.148070</td>\n",
              "      <td>/m22s7zvkVFDU9ir56PiiqIEWFdT.jpg</td>\n",
              "      <td>NaN</td>\n",
              "      <td>[{'iso_3166_1': 'KR', 'name': 'South Korea'}]</td>\n",
              "      <td>2/5/09</td>\n",
              "      <td>118.0</td>\n",
              "      <td>[{'iso_639_1': 'ko', 'name': '한국어/조선말'}]</td>\n",
              "      <td>Released</td>\n",
              "      <td>NaN</td>\n",
              "      <td>Marine Boy</td>\n",
              "      <td>NaN</td>\n",
              "      <td>[{'cast_id': 3, 'character': 'Chun-soo', 'cred...</td>\n",
              "      <td>[{'credit_id': '52fe464b9251416c75073b43', 'de...</td>\n",
              "      <td>3923970</td>\n",
              "    </tr>\n",
              "  </tbody>\n",
              "</table>\n",
              "</div>"
            ],
            "text/plain": [
              "   id  ...   revenue\n",
              "0   1  ...  12314651\n",
              "1   2  ...  95149435\n",
              "2   3  ...  13092000\n",
              "3   4  ...  16000000\n",
              "4   5  ...   3923970\n",
              "\n",
              "[5 rows x 23 columns]"
            ]
          },
          "metadata": {},
          "execution_count": 6
        }
      ]
    },
    {
      "cell_type": "code",
      "metadata": {
        "colab": {
          "base_uri": "https://localhost:8080/"
        },
        "id": "2JIXHrFScvrd",
        "outputId": "0e39743b-1bfc-49e2-99ef-98f45dc8d112"
      },
      "source": [
        "imdb_df.info()"
      ],
      "execution_count": null,
      "outputs": [
        {
          "output_type": "stream",
          "text": [
            "<class 'pandas.core.frame.DataFrame'>\n",
            "RangeIndex: 3000 entries, 0 to 2999\n",
            "Data columns (total 23 columns):\n",
            " #   Column                 Non-Null Count  Dtype  \n",
            "---  ------                 --------------  -----  \n",
            " 0   id                     3000 non-null   int64  \n",
            " 1   belongs_to_collection  604 non-null    object \n",
            " 2   budget                 3000 non-null   int64  \n",
            " 3   genres                 2993 non-null   object \n",
            " 4   homepage               946 non-null    object \n",
            " 5   imdb_id                3000 non-null   object \n",
            " 6   original_language      3000 non-null   object \n",
            " 7   original_title         3000 non-null   object \n",
            " 8   overview               2992 non-null   object \n",
            " 9   popularity             3000 non-null   float64\n",
            " 10  poster_path            2999 non-null   object \n",
            " 11  production_companies   2844 non-null   object \n",
            " 12  production_countries   2945 non-null   object \n",
            " 13  release_date           3000 non-null   object \n",
            " 14  runtime                2998 non-null   float64\n",
            " 15  spoken_languages       2980 non-null   object \n",
            " 16  status                 3000 non-null   object \n",
            " 17  tagline                2403 non-null   object \n",
            " 18  title                  3000 non-null   object \n",
            " 19  Keywords               2724 non-null   object \n",
            " 20  cast                   2987 non-null   object \n",
            " 21  crew                   2984 non-null   object \n",
            " 22  revenue                3000 non-null   int64  \n",
            "dtypes: float64(2), int64(3), object(18)\n",
            "memory usage: 539.2+ KB\n"
          ],
          "name": "stdout"
        }
      ]
    },
    {
      "cell_type": "code",
      "metadata": {
        "colab": {
          "base_uri": "https://localhost:8080/"
        },
        "id": "b79T8DdVczkE",
        "outputId": "51196de1-9cb3-4c0e-d04b-a32f6dc30783"
      },
      "source": [
        "type(imdb_df.loc[0,'crew']) "
      ],
      "execution_count": null,
      "outputs": [
        {
          "output_type": "execute_result",
          "data": {
            "text/plain": [
              "str"
            ]
          },
          "metadata": {},
          "execution_count": 8
        }
      ]
    },
    {
      "cell_type": "code",
      "metadata": {
        "colab": {
          "base_uri": "https://localhost:8080/"
        },
        "id": "-yHah0zDdQEJ",
        "outputId": "ca929888-f9df-41f9-97e5-e32dc28b505b"
      },
      "source": [
        "imdb_df.columns"
      ],
      "execution_count": null,
      "outputs": [
        {
          "output_type": "execute_result",
          "data": {
            "text/plain": [
              "Index(['id', 'belongs_to_collection', 'budget', 'genres', 'homepage',\n",
              "       'imdb_id', 'original_language', 'original_title', 'overview',\n",
              "       'popularity', 'poster_path', 'production_companies',\n",
              "       'production_countries', 'release_date', 'runtime', 'spoken_languages',\n",
              "       'status', 'tagline', 'title', 'Keywords', 'cast', 'crew', 'revenue'],\n",
              "      dtype='object')"
            ]
          },
          "metadata": {},
          "execution_count": 9
        }
      ]
    },
    {
      "cell_type": "code",
      "metadata": {
        "id": "16R0rBTmdTvC"
      },
      "source": [
        "column_to_keep = ['imdb_id', 'budget', 'genres', 'original_language', 'title', 'cast', 'crew', 'revenue']"
      ],
      "execution_count": null,
      "outputs": []
    },
    {
      "cell_type": "code",
      "metadata": {
        "id": "KgU0SFDRdVHH"
      },
      "source": [
        "imdb_df = imdb_df[column_to_keep]"
      ],
      "execution_count": null,
      "outputs": []
    },
    {
      "cell_type": "code",
      "metadata": {
        "id": "Rdyu1zt1c5-F"
      },
      "source": [
        "# crew,cast,& genres are str data, we will use eval() fn to convert it into real list\n",
        "def convert_string_to_list(string):\n",
        "  return eval(string)"
      ],
      "execution_count": null,
      "outputs": []
    },
    {
      "cell_type": "code",
      "metadata": {
        "id": "n3O_CQNJdbuo"
      },
      "source": [
        "imdb_df.loc[~imdb_df['genres'].isna(),'genres'] = imdb_df.loc[~imdb_df['genres'].isna(),'genres'].apply(convert_string_to_list)\n",
        "imdb_df.loc[~imdb_df['crew'].isna(),'crew'] = imdb_df.loc[~imdb_df['crew'].isna(),'crew'].apply(convert_string_to_list)\n",
        "imdb_df.loc[~imdb_df['cast'].isna(),'cast'] = imdb_df.loc[~imdb_df['cast'].isna(),'cast'].apply(convert_string_to_list)"
      ],
      "execution_count": null,
      "outputs": []
    },
    {
      "cell_type": "code",
      "metadata": {
        "colab": {
          "base_uri": "https://localhost:8080/"
        },
        "id": "s-EsvrF9dlqr",
        "outputId": "df87b62c-5c3f-40bc-e0de-ab7dde913afb"
      },
      "source": [
        "imdb_df.loc[0,'genres']"
      ],
      "execution_count": null,
      "outputs": [
        {
          "output_type": "execute_result",
          "data": {
            "text/plain": [
              "[{'id': 35, 'name': 'Comedy'}]"
            ]
          },
          "metadata": {},
          "execution_count": 14
        }
      ]
    },
    {
      "cell_type": "code",
      "metadata": {
        "id": "zVtYvw3sdqUD"
      },
      "source": [
        "imdb_df_new = imdb_df.copy()"
      ],
      "execution_count": null,
      "outputs": []
    },
    {
      "cell_type": "markdown",
      "metadata": {
        "id": "2AB1dS18fho-"
      },
      "source": [
        "# **Which movie made the highest profit? Who were its producer and director? Identify the actors in that film.**"
      ]
    },
    {
      "cell_type": "code",
      "metadata": {
        "colab": {
          "base_uri": "https://localhost:8080/",
          "height": 297
        },
        "id": "tG8lCirFd046",
        "outputId": "5f4e66a7-c094-473f-8c4d-e433577a695b"
      },
      "source": [
        "imdb_df_new.describe()"
      ],
      "execution_count": null,
      "outputs": [
        {
          "output_type": "execute_result",
          "data": {
            "text/html": [
              "<div>\n",
              "<style scoped>\n",
              "    .dataframe tbody tr th:only-of-type {\n",
              "        vertical-align: middle;\n",
              "    }\n",
              "\n",
              "    .dataframe tbody tr th {\n",
              "        vertical-align: top;\n",
              "    }\n",
              "\n",
              "    .dataframe thead th {\n",
              "        text-align: right;\n",
              "    }\n",
              "</style>\n",
              "<table border=\"1\" class=\"dataframe\">\n",
              "  <thead>\n",
              "    <tr style=\"text-align: right;\">\n",
              "      <th></th>\n",
              "      <th>budget</th>\n",
              "      <th>revenue</th>\n",
              "    </tr>\n",
              "  </thead>\n",
              "  <tbody>\n",
              "    <tr>\n",
              "      <th>count</th>\n",
              "      <td>3.000000e+03</td>\n",
              "      <td>3.000000e+03</td>\n",
              "    </tr>\n",
              "    <tr>\n",
              "      <th>mean</th>\n",
              "      <td>2.253133e+07</td>\n",
              "      <td>6.672585e+07</td>\n",
              "    </tr>\n",
              "    <tr>\n",
              "      <th>std</th>\n",
              "      <td>3.702609e+07</td>\n",
              "      <td>1.375323e+08</td>\n",
              "    </tr>\n",
              "    <tr>\n",
              "      <th>min</th>\n",
              "      <td>0.000000e+00</td>\n",
              "      <td>1.000000e+00</td>\n",
              "    </tr>\n",
              "    <tr>\n",
              "      <th>25%</th>\n",
              "      <td>0.000000e+00</td>\n",
              "      <td>2.379808e+06</td>\n",
              "    </tr>\n",
              "    <tr>\n",
              "      <th>50%</th>\n",
              "      <td>8.000000e+06</td>\n",
              "      <td>1.680707e+07</td>\n",
              "    </tr>\n",
              "    <tr>\n",
              "      <th>75%</th>\n",
              "      <td>2.900000e+07</td>\n",
              "      <td>6.891920e+07</td>\n",
              "    </tr>\n",
              "    <tr>\n",
              "      <th>max</th>\n",
              "      <td>3.800000e+08</td>\n",
              "      <td>1.519558e+09</td>\n",
              "    </tr>\n",
              "  </tbody>\n",
              "</table>\n",
              "</div>"
            ],
            "text/plain": [
              "             budget       revenue\n",
              "count  3.000000e+03  3.000000e+03\n",
              "mean   2.253133e+07  6.672585e+07\n",
              "std    3.702609e+07  1.375323e+08\n",
              "min    0.000000e+00  1.000000e+00\n",
              "25%    0.000000e+00  2.379808e+06\n",
              "50%    8.000000e+06  1.680707e+07\n",
              "75%    2.900000e+07  6.891920e+07\n",
              "max    3.800000e+08  1.519558e+09"
            ]
          },
          "metadata": {},
          "execution_count": 16
        }
      ]
    },
    {
      "cell_type": "code",
      "metadata": {
        "id": "8xzsIDxed4m_"
      },
      "source": [
        "# we know that budget and revenue can't be 0 so, we need to remove outliers\n",
        "imdb_df_new.loc[imdb_df_new['budget']<=1000,'budget'] = imdb_df_new.loc[imdb_df_new['budget']>=1000,'budget'].median()\n",
        "imdb_df_new.loc[imdb_df_new['revenue']<=1000,'revenue'] = imdb_df_new.loc[imdb_df_new['revenue']>=1000,'revenue'].median()"
      ],
      "execution_count": null,
      "outputs": []
    },
    {
      "cell_type": "code",
      "metadata": {
        "colab": {
          "base_uri": "https://localhost:8080/",
          "height": 297
        },
        "id": "87jlBcu5eWvh",
        "outputId": "8475eb8b-5f15-4fe6-e532-d6e90865978d"
      },
      "source": [
        "imdb_df_new.describe()"
      ],
      "execution_count": null,
      "outputs": [
        {
          "output_type": "execute_result",
          "data": {
            "text/html": [
              "<div>\n",
              "<style scoped>\n",
              "    .dataframe tbody tr th:only-of-type {\n",
              "        vertical-align: middle;\n",
              "    }\n",
              "\n",
              "    .dataframe tbody tr th {\n",
              "        vertical-align: top;\n",
              "    }\n",
              "\n",
              "    .dataframe thead th {\n",
              "        text-align: right;\n",
              "    }\n",
              "</style>\n",
              "<table border=\"1\" class=\"dataframe\">\n",
              "  <thead>\n",
              "    <tr style=\"text-align: right;\">\n",
              "      <th></th>\n",
              "      <th>budget</th>\n",
              "      <th>revenue</th>\n",
              "    </tr>\n",
              "  </thead>\n",
              "  <tbody>\n",
              "    <tr>\n",
              "      <th>count</th>\n",
              "      <td>3.000000e+03</td>\n",
              "      <td>3.000000e+03</td>\n",
              "    </tr>\n",
              "    <tr>\n",
              "      <th>mean</th>\n",
              "      <td>2.708250e+07</td>\n",
              "      <td>6.705811e+07</td>\n",
              "    </tr>\n",
              "    <tr>\n",
              "      <th>std</th>\n",
              "      <td>3.492773e+07</td>\n",
              "      <td>1.373917e+08</td>\n",
              "    </tr>\n",
              "    <tr>\n",
              "      <th>min</th>\n",
              "      <td>2.500000e+03</td>\n",
              "      <td>1.404000e+03</td>\n",
              "    </tr>\n",
              "    <tr>\n",
              "      <th>25%</th>\n",
              "      <td>1.000000e+07</td>\n",
              "      <td>2.947600e+06</td>\n",
              "    </tr>\n",
              "    <tr>\n",
              "      <th>50%</th>\n",
              "      <td>1.645000e+07</td>\n",
              "      <td>1.748753e+07</td>\n",
              "    </tr>\n",
              "    <tr>\n",
              "      <th>75%</th>\n",
              "      <td>2.900000e+07</td>\n",
              "      <td>6.891920e+07</td>\n",
              "    </tr>\n",
              "    <tr>\n",
              "      <th>max</th>\n",
              "      <td>3.800000e+08</td>\n",
              "      <td>1.519558e+09</td>\n",
              "    </tr>\n",
              "  </tbody>\n",
              "</table>\n",
              "</div>"
            ],
            "text/plain": [
              "             budget       revenue\n",
              "count  3.000000e+03  3.000000e+03\n",
              "mean   2.708250e+07  6.705811e+07\n",
              "std    3.492773e+07  1.373917e+08\n",
              "min    2.500000e+03  1.404000e+03\n",
              "25%    1.000000e+07  2.947600e+06\n",
              "50%    1.645000e+07  1.748753e+07\n",
              "75%    2.900000e+07  6.891920e+07\n",
              "max    3.800000e+08  1.519558e+09"
            ]
          },
          "metadata": {},
          "execution_count": 18
        }
      ]
    },
    {
      "cell_type": "code",
      "metadata": {
        "id": "OGGvDjofeaxP"
      },
      "source": [
        "imdb_df_new['profit'] = imdb_df_new['revenue'] - imdb_df_new['budget']"
      ],
      "execution_count": null,
      "outputs": []
    },
    {
      "cell_type": "code",
      "metadata": {
        "colab": {
          "base_uri": "https://localhost:8080/",
          "height": 323
        },
        "id": "EgTtMJj_ee-1",
        "outputId": "c14fde62-6fdc-472e-bbe5-08d353ba1b1f"
      },
      "source": [
        "imdb_df_new.head()"
      ],
      "execution_count": null,
      "outputs": [
        {
          "output_type": "execute_result",
          "data": {
            "text/html": [
              "<div>\n",
              "<style scoped>\n",
              "    .dataframe tbody tr th:only-of-type {\n",
              "        vertical-align: middle;\n",
              "    }\n",
              "\n",
              "    .dataframe tbody tr th {\n",
              "        vertical-align: top;\n",
              "    }\n",
              "\n",
              "    .dataframe thead th {\n",
              "        text-align: right;\n",
              "    }\n",
              "</style>\n",
              "<table border=\"1\" class=\"dataframe\">\n",
              "  <thead>\n",
              "    <tr style=\"text-align: right;\">\n",
              "      <th></th>\n",
              "      <th>imdb_id</th>\n",
              "      <th>budget</th>\n",
              "      <th>genres</th>\n",
              "      <th>original_language</th>\n",
              "      <th>title</th>\n",
              "      <th>cast</th>\n",
              "      <th>crew</th>\n",
              "      <th>revenue</th>\n",
              "      <th>profit</th>\n",
              "    </tr>\n",
              "  </thead>\n",
              "  <tbody>\n",
              "    <tr>\n",
              "      <th>0</th>\n",
              "      <td>tt2637294</td>\n",
              "      <td>14000000</td>\n",
              "      <td>[{'id': 35, 'name': 'Comedy'}]</td>\n",
              "      <td>en</td>\n",
              "      <td>Hot Tub Time Machine 2</td>\n",
              "      <td>[{'cast_id': 4, 'character': 'Lou', 'credit_id...</td>\n",
              "      <td>[{'credit_id': '59ac067c92514107af02c8c8', 'de...</td>\n",
              "      <td>12314651</td>\n",
              "      <td>-1685349</td>\n",
              "    </tr>\n",
              "    <tr>\n",
              "      <th>1</th>\n",
              "      <td>tt0368933</td>\n",
              "      <td>40000000</td>\n",
              "      <td>[{'id': 35, 'name': 'Comedy'}, {'id': 18, 'nam...</td>\n",
              "      <td>en</td>\n",
              "      <td>The Princess Diaries 2: Royal Engagement</td>\n",
              "      <td>[{'cast_id': 1, 'character': 'Mia Thermopolis'...</td>\n",
              "      <td>[{'credit_id': '52fe43fe9251416c7502563d', 'de...</td>\n",
              "      <td>95149435</td>\n",
              "      <td>55149435</td>\n",
              "    </tr>\n",
              "    <tr>\n",
              "      <th>2</th>\n",
              "      <td>tt2582802</td>\n",
              "      <td>3300000</td>\n",
              "      <td>[{'id': 18, 'name': 'Drama'}]</td>\n",
              "      <td>en</td>\n",
              "      <td>Whiplash</td>\n",
              "      <td>[{'cast_id': 5, 'character': 'Andrew Neimann',...</td>\n",
              "      <td>[{'credit_id': '54d5356ec3a3683ba0000039', 'de...</td>\n",
              "      <td>13092000</td>\n",
              "      <td>9792000</td>\n",
              "    </tr>\n",
              "    <tr>\n",
              "      <th>3</th>\n",
              "      <td>tt1821480</td>\n",
              "      <td>1200000</td>\n",
              "      <td>[{'id': 53, 'name': 'Thriller'}, {'id': 18, 'n...</td>\n",
              "      <td>hi</td>\n",
              "      <td>Kahaani</td>\n",
              "      <td>[{'cast_id': 1, 'character': 'Vidya Bagchi', '...</td>\n",
              "      <td>[{'credit_id': '52fe48779251416c9108d6eb', 'de...</td>\n",
              "      <td>16000000</td>\n",
              "      <td>14800000</td>\n",
              "    </tr>\n",
              "    <tr>\n",
              "      <th>4</th>\n",
              "      <td>tt1380152</td>\n",
              "      <td>16450000</td>\n",
              "      <td>[{'id': 28, 'name': 'Action'}, {'id': 53, 'nam...</td>\n",
              "      <td>ko</td>\n",
              "      <td>Marine Boy</td>\n",
              "      <td>[{'cast_id': 3, 'character': 'Chun-soo', 'cred...</td>\n",
              "      <td>[{'credit_id': '52fe464b9251416c75073b43', 'de...</td>\n",
              "      <td>3923970</td>\n",
              "      <td>-12526030</td>\n",
              "    </tr>\n",
              "  </tbody>\n",
              "</table>\n",
              "</div>"
            ],
            "text/plain": [
              "     imdb_id    budget  ...   revenue    profit\n",
              "0  tt2637294  14000000  ...  12314651  -1685349\n",
              "1  tt0368933  40000000  ...  95149435  55149435\n",
              "2  tt2582802   3300000  ...  13092000   9792000\n",
              "3  tt1821480   1200000  ...  16000000  14800000\n",
              "4  tt1380152  16450000  ...   3923970 -12526030\n",
              "\n",
              "[5 rows x 9 columns]"
            ]
          },
          "metadata": {},
          "execution_count": 20
        }
      ]
    },
    {
      "cell_type": "code",
      "metadata": {
        "id": "ZG6kLvbJeiC_"
      },
      "source": [
        "max_profit = imdb_df_new['profit'].max()"
      ],
      "execution_count": null,
      "outputs": []
    },
    {
      "cell_type": "code",
      "metadata": {
        "id": "e-LI90ijelHw"
      },
      "source": [
        "max_profit_movies = imdb_df_new[imdb_df_new['profit'] == max_profit]"
      ],
      "execution_count": null,
      "outputs": []
    },
    {
      "cell_type": "code",
      "metadata": {
        "colab": {
          "base_uri": "https://localhost:8080/",
          "height": 97
        },
        "id": "U-Lz29OneoMY",
        "outputId": "4bc2deb9-5e56-4b27-bb32-676c896f4a6b"
      },
      "source": [
        "max_profit_movies"
      ],
      "execution_count": null,
      "outputs": [
        {
          "output_type": "execute_result",
          "data": {
            "text/html": [
              "<div>\n",
              "<style scoped>\n",
              "    .dataframe tbody tr th:only-of-type {\n",
              "        vertical-align: middle;\n",
              "    }\n",
              "\n",
              "    .dataframe tbody tr th {\n",
              "        vertical-align: top;\n",
              "    }\n",
              "\n",
              "    .dataframe thead th {\n",
              "        text-align: right;\n",
              "    }\n",
              "</style>\n",
              "<table border=\"1\" class=\"dataframe\">\n",
              "  <thead>\n",
              "    <tr style=\"text-align: right;\">\n",
              "      <th></th>\n",
              "      <th>imdb_id</th>\n",
              "      <th>budget</th>\n",
              "      <th>genres</th>\n",
              "      <th>original_language</th>\n",
              "      <th>title</th>\n",
              "      <th>cast</th>\n",
              "      <th>crew</th>\n",
              "      <th>revenue</th>\n",
              "      <th>profit</th>\n",
              "    </tr>\n",
              "  </thead>\n",
              "  <tbody>\n",
              "    <tr>\n",
              "      <th>1761</th>\n",
              "      <td>tt2820852</td>\n",
              "      <td>190000000</td>\n",
              "      <td>[{'id': 28, 'name': 'Action'}]</td>\n",
              "      <td>en</td>\n",
              "      <td>Furious 7</td>\n",
              "      <td>[{'cast_id': 17, 'character': 'Dominic Toretto...</td>\n",
              "      <td>[{'credit_id': '52fe4cc8c3a36847f823e681', 'de...</td>\n",
              "      <td>1506249360</td>\n",
              "      <td>1316249360</td>\n",
              "    </tr>\n",
              "  </tbody>\n",
              "</table>\n",
              "</div>"
            ],
            "text/plain": [
              "        imdb_id     budget  ...     revenue      profit\n",
              "1761  tt2820852  190000000  ...  1506249360  1316249360\n",
              "\n",
              "[1 rows x 9 columns]"
            ]
          },
          "metadata": {},
          "execution_count": 23
        }
      ]
    },
    {
      "cell_type": "code",
      "metadata": {
        "id": "SAfTy9iEeupX"
      },
      "source": [
        "max_profit_movies.iloc[0]['crew']"
      ],
      "execution_count": null,
      "outputs": []
    },
    {
      "cell_type": "code",
      "metadata": {
        "id": "MBh_MlBwezri"
      },
      "source": [
        "max_profit_movies_df = max_profit_movies['crew'].values\n",
        "crew_list = max_profit_movies.iloc[0]['crew']"
      ],
      "execution_count": null,
      "outputs": []
    },
    {
      "cell_type": "code",
      "metadata": {
        "id": "K9khJC2Ae3X5"
      },
      "source": [
        "producer_list = []\n",
        "director_list = []\n",
        "for elem in crew_list:\n",
        "  if elem['job'] == 'Producer':\n",
        "    producer_list.append(elem['name'])\n",
        "    \n",
        "  if elem['job'] == 'Director':\n",
        "    director_list.append(elem['name'])"
      ],
      "execution_count": null,
      "outputs": []
    },
    {
      "cell_type": "code",
      "metadata": {
        "colab": {
          "base_uri": "https://localhost:8080/"
        },
        "id": "72te-fw8e6S1",
        "outputId": "c7f0a551-4eb0-448c-ba35-f1db486d54a8"
      },
      "source": [
        "director_list"
      ],
      "execution_count": null,
      "outputs": [
        {
          "output_type": "execute_result",
          "data": {
            "text/plain": [
              "['James Wan']"
            ]
          },
          "metadata": {},
          "execution_count": 27
        }
      ]
    },
    {
      "cell_type": "code",
      "metadata": {
        "id": "7Gi8_PYse9O7"
      },
      "source": [
        "max_profit_movies.iloc[0]['cast']"
      ],
      "execution_count": null,
      "outputs": []
    },
    {
      "cell_type": "code",
      "metadata": {
        "id": "sJmsSenFfC6b"
      },
      "source": [
        "actor_list_df = max_profit_movies.iloc[0]['cast']"
      ],
      "execution_count": null,
      "outputs": []
    },
    {
      "cell_type": "code",
      "metadata": {
        "id": "0HIEjOPgfF6E"
      },
      "source": [
        "actor_list = []\n",
        "#male_actor_list = []\n",
        "for elem in actor_list_df:\n",
        "  actor_list.append(elem['name'])\n",
        "    \n",
        "  #if elem['gender'] == 2:\n",
        "    #male_actor_list.append(elem['name'])"
      ],
      "execution_count": null,
      "outputs": []
    },
    {
      "cell_type": "code",
      "metadata": {
        "id": "abNVJ0sWfQTX"
      },
      "source": [
        "actor_list"
      ],
      "execution_count": null,
      "outputs": []
    },
    {
      "cell_type": "markdown",
      "metadata": {
        "id": "koBPMHdffqQ8"
      },
      "source": [
        "# **This data has information about movies made in different languages. Which language has the highest average ROI (return on investment)?** ROI = (Profit/budget)*100"
      ]
    },
    {
      "cell_type": "code",
      "metadata": {
        "id": "-4T8K-bffvbq"
      },
      "source": [
        "imdb_df_new['roi'] = imdb_df_new['profit']/imdb_df_new['budget']*100"
      ],
      "execution_count": null,
      "outputs": []
    },
    {
      "cell_type": "code",
      "metadata": {
        "colab": {
          "base_uri": "https://localhost:8080/",
          "height": 374
        },
        "id": "oXvwPil2g8z5",
        "outputId": "5fc56404-e4f6-46be-c0ad-13f4b5cbcb23"
      },
      "source": [
        "imdb_df_new.head()"
      ],
      "execution_count": null,
      "outputs": [
        {
          "output_type": "execute_result",
          "data": {
            "text/html": [
              "<div>\n",
              "<style scoped>\n",
              "    .dataframe tbody tr th:only-of-type {\n",
              "        vertical-align: middle;\n",
              "    }\n",
              "\n",
              "    .dataframe tbody tr th {\n",
              "        vertical-align: top;\n",
              "    }\n",
              "\n",
              "    .dataframe thead th {\n",
              "        text-align: right;\n",
              "    }\n",
              "</style>\n",
              "<table border=\"1\" class=\"dataframe\">\n",
              "  <thead>\n",
              "    <tr style=\"text-align: right;\">\n",
              "      <th></th>\n",
              "      <th>imdb_id</th>\n",
              "      <th>budget</th>\n",
              "      <th>genres</th>\n",
              "      <th>original_language</th>\n",
              "      <th>title</th>\n",
              "      <th>cast</th>\n",
              "      <th>crew</th>\n",
              "      <th>revenue</th>\n",
              "      <th>profit</th>\n",
              "      <th>roi</th>\n",
              "    </tr>\n",
              "  </thead>\n",
              "  <tbody>\n",
              "    <tr>\n",
              "      <th>0</th>\n",
              "      <td>tt2637294</td>\n",
              "      <td>14000000</td>\n",
              "      <td>[{'id': 35, 'name': 'Comedy'}]</td>\n",
              "      <td>en</td>\n",
              "      <td>Hot Tub Time Machine 2</td>\n",
              "      <td>[{'cast_id': 4, 'character': 'Lou', 'credit_id...</td>\n",
              "      <td>[{'credit_id': '59ac067c92514107af02c8c8', 'de...</td>\n",
              "      <td>12314651</td>\n",
              "      <td>-1685349</td>\n",
              "      <td>-12.038207</td>\n",
              "    </tr>\n",
              "    <tr>\n",
              "      <th>1</th>\n",
              "      <td>tt0368933</td>\n",
              "      <td>40000000</td>\n",
              "      <td>[{'id': 35, 'name': 'Comedy'}, {'id': 18, 'nam...</td>\n",
              "      <td>en</td>\n",
              "      <td>The Princess Diaries 2: Royal Engagement</td>\n",
              "      <td>[{'cast_id': 1, 'character': 'Mia Thermopolis'...</td>\n",
              "      <td>[{'credit_id': '52fe43fe9251416c7502563d', 'de...</td>\n",
              "      <td>95149435</td>\n",
              "      <td>55149435</td>\n",
              "      <td>137.873588</td>\n",
              "    </tr>\n",
              "    <tr>\n",
              "      <th>2</th>\n",
              "      <td>tt2582802</td>\n",
              "      <td>3300000</td>\n",
              "      <td>[{'id': 18, 'name': 'Drama'}]</td>\n",
              "      <td>en</td>\n",
              "      <td>Whiplash</td>\n",
              "      <td>[{'cast_id': 5, 'character': 'Andrew Neimann',...</td>\n",
              "      <td>[{'credit_id': '54d5356ec3a3683ba0000039', 'de...</td>\n",
              "      <td>13092000</td>\n",
              "      <td>9792000</td>\n",
              "      <td>296.727273</td>\n",
              "    </tr>\n",
              "    <tr>\n",
              "      <th>3</th>\n",
              "      <td>tt1821480</td>\n",
              "      <td>1200000</td>\n",
              "      <td>[{'id': 53, 'name': 'Thriller'}, {'id': 18, 'n...</td>\n",
              "      <td>hi</td>\n",
              "      <td>Kahaani</td>\n",
              "      <td>[{'cast_id': 1, 'character': 'Vidya Bagchi', '...</td>\n",
              "      <td>[{'credit_id': '52fe48779251416c9108d6eb', 'de...</td>\n",
              "      <td>16000000</td>\n",
              "      <td>14800000</td>\n",
              "      <td>1233.333333</td>\n",
              "    </tr>\n",
              "    <tr>\n",
              "      <th>4</th>\n",
              "      <td>tt1380152</td>\n",
              "      <td>16450000</td>\n",
              "      <td>[{'id': 28, 'name': 'Action'}, {'id': 53, 'nam...</td>\n",
              "      <td>ko</td>\n",
              "      <td>Marine Boy</td>\n",
              "      <td>[{'cast_id': 3, 'character': 'Chun-soo', 'cred...</td>\n",
              "      <td>[{'credit_id': '52fe464b9251416c75073b43', 'de...</td>\n",
              "      <td>3923970</td>\n",
              "      <td>-12526030</td>\n",
              "      <td>-76.146079</td>\n",
              "    </tr>\n",
              "  </tbody>\n",
              "</table>\n",
              "</div>"
            ],
            "text/plain": [
              "     imdb_id    budget  ...    profit          roi\n",
              "0  tt2637294  14000000  ...  -1685349   -12.038207\n",
              "1  tt0368933  40000000  ...  55149435   137.873588\n",
              "2  tt2582802   3300000  ...   9792000   296.727273\n",
              "3  tt1821480   1200000  ...  14800000  1233.333333\n",
              "4  tt1380152  16450000  ... -12526030   -76.146079\n",
              "\n",
              "[5 rows x 10 columns]"
            ]
          },
          "metadata": {},
          "execution_count": 33
        }
      ]
    },
    {
      "cell_type": "code",
      "metadata": {
        "id": "AI1RLA75hA-j"
      },
      "source": [
        "roi_la_df = imdb_df_new.groupby('original_language')['roi'].mean().reset_index()"
      ],
      "execution_count": null,
      "outputs": []
    },
    {
      "cell_type": "code",
      "metadata": {
        "id": "2nIfLIGmhXAJ"
      },
      "source": [
        "max_roi_lan = roi_la_df[roi_la_df['roi'] == roi_la_df['roi'].max()]['original_language']"
      ],
      "execution_count": null,
      "outputs": []
    },
    {
      "cell_type": "code",
      "metadata": {
        "colab": {
          "base_uri": "https://localhost:8080/"
        },
        "id": "qHL2NF6mhwgh",
        "outputId": "fdc6e5e6-3daa-4586-c5f7-e5196d8154c0"
      },
      "source": [
        "max_roi_lan"
      ],
      "execution_count": null,
      "outputs": [
        {
          "output_type": "execute_result",
          "data": {
            "text/plain": [
              "18    ko\n",
              "Name: original_language, dtype: object"
            ]
          },
          "metadata": {},
          "execution_count": 36
        }
      ]
    },
    {
      "cell_type": "markdown",
      "metadata": {
        "id": "kIi2yBK7fz0t"
      },
      "source": [
        "# **Find out the unique genres of movies in this dataset.**"
      ]
    },
    {
      "cell_type": "code",
      "metadata": {
        "id": "IJTyU4EDf19V"
      },
      "source": [
        "imdb_no_null_genres_df = imdb_df_new[~imdb_df_new['genres'].isna()]"
      ],
      "execution_count": null,
      "outputs": []
    },
    {
      "cell_type": "code",
      "metadata": {
        "colab": {
          "base_uri": "https://localhost:8080/"
        },
        "id": "wtGq41e8h2YR",
        "outputId": "8d90622e-728a-4649-9495-1afcf77878ba"
      },
      "source": [
        "imdb_no_null_genres_df.shape"
      ],
      "execution_count": null,
      "outputs": [
        {
          "output_type": "execute_result",
          "data": {
            "text/plain": [
              "(2993, 10)"
            ]
          },
          "metadata": {},
          "execution_count": 38
        }
      ]
    },
    {
      "cell_type": "code",
      "metadata": {
        "id": "qZiMPrp5iN6f"
      },
      "source": [
        "genres_list = []\n",
        "for index,movie in imdb_no_null_genres_df.iterrows():\n",
        "  for elem in movie['genres']:\n",
        "    genres_list.append(elem['name'])\n"
      ],
      "execution_count": null,
      "outputs": []
    },
    {
      "cell_type": "code",
      "metadata": {
        "colab": {
          "base_uri": "https://localhost:8080/"
        },
        "id": "agVjgOgEit8m",
        "outputId": "26c69876-5dd3-4c03-c571-e09ef5839703"
      },
      "source": [
        "set(genres_list)"
      ],
      "execution_count": null,
      "outputs": [
        {
          "output_type": "execute_result",
          "data": {
            "text/plain": [
              "{'Action',\n",
              " 'Adventure',\n",
              " 'Animation',\n",
              " 'Comedy',\n",
              " 'Crime',\n",
              " 'Documentary',\n",
              " 'Drama',\n",
              " 'Family',\n",
              " 'Fantasy',\n",
              " 'Foreign',\n",
              " 'History',\n",
              " 'Horror',\n",
              " 'Music',\n",
              " 'Mystery',\n",
              " 'Romance',\n",
              " 'Science Fiction',\n",
              " 'TV Movie',\n",
              " 'Thriller',\n",
              " 'War',\n",
              " 'Western'}"
            ]
          },
          "metadata": {},
          "execution_count": 40
        }
      ]
    },
    {
      "cell_type": "markdown",
      "metadata": {
        "id": "wmDrafmAf6OE"
      },
      "source": [
        "# **Make a table of all the producers and directors of each movie. Find the top 3 producers who have produced movies with the highest average RoI?**"
      ]
    },
    {
      "cell_type": "markdown",
      "metadata": {
        "id": "WW-EG4IjjQ0K"
      },
      "source": [
        "# **Hint**\n",
        "![hint.JPG](data:image/jpeg;base64,/9j/4AAQSkZJRgABAQEAYABgAAD/4RDsRXhpZgAATU0AKgAAAAgABAE7AAIAAAALAAAISodpAAQAAAABAAAIVpydAAEAAAAWAAAQzuocAAcAAAgMAAAAPgAAAAAc6gAAAAgAAAAAAAAAAAAAAAAAAAAAAAAAAAAAAAAAAAAAAAAAAAAAAAAAAAAAAAAAAAAAAAAAAAAAAAAAAAAAAAAAAAAAAAAAAAAAAAAAAAAAAAAAAAAAAAAAAAAAAAAAAAAAAAAAAAAAAAAAAAAAAAAAAAAAAAAAAAAAAAAAAAAAAAAAAAAAAAAAAAAAAAAAAAAAAAAAAAAAAAAAAAAAAAAAAAAAAAAAAAAAAAAAAAAAAAAAAAAAAAAAAAAAAAAAAAAAAAAAAAAAAAAAAAAAAAAAAAAAAAAAAAAAAAAAAAAAAAAAAAAAAAAAAAAAAAAAAAAAAAAAAAAAAAAAAAAAAAAAAAAAAAAAAAAAAAAAAAAAAAAAAAAAAAAAAAAAAAAAAAAAAAAAAAAAAAAAAAAAAAAAAAAAAAAAAAAAAAAAAAAAAAAAAAAAAAAAAAAAAAAAAAAAAAAAAAAAAAAAAAAAAAAAAAAAAAAAAAAAAAAAAAAAAAAAAAAAAAAAAAAAAAAAAAAAAAAAAAAAAAAAAAAAAAAAAAAAAAAAAAAAAAAAAAAAAAAAAAAAAAAAAAAAAAAAAAAAAAAAAAAAAAAAAAAAAAAAAAAAAAAAAAAAAAAAAAAAAAAAAAAAAAAAAAAAAAAAAAAAAAAAAAAAAAAAAAAAAAAAAAAAAAAAAAAAAAAAAAAAAAAAAAAAAAAAAAAAAAAAAAAAAAAAAAAAAAAAAAAAAAAAAAAAAAAAAAAAAAAAAAAAAAAAAAAAAAAAAAAAAAAAAAAAAAAAAAAAAAAAAAAAAAAAAAAAAAAAAAAAAAAAAAAAAAAAAAAAAAAAAAAAAAAAAAAAAAAAAAAAAAAAAAAAAAAAAAAAAAAAAAAAAAAAAAAAAAAAAAAAAAAAAAAAAAAAAAAAAAAAAAAAAAAAAAAAAAAAAAAAAAAAAAAAAAAAAAAAAAAAAAAAAAAAAAAAAAAAAAAAAAAAAAAAAAAAAAAAAAAAAAAAAAAAAAAAAAAAAAAAAAAAAAAAAAAAAAAAAAAAAAAAAAAAAAAAAAAAAAAAAAAAAAAAAAAAAAAAAAAAAAAAAAAAAAAAAAAAAAAAAAAAAAAAAAAAAAAAAAAAAAAAAAAAAAAAAAAAAAAAAAAAAAAAAAAAAAAAAAAAAAAAAAAAAAAAAAAAAAAAAAAAAAAAAAAAAAAAAAAAAAAAAAAAAAAAAAAAAAAAAAAAAAAAAAAAAAAAAAAAAAAAAAAAAAAAAAAAAAAAAAAAAAAAAAAAAAAAAAAAAAAAAAAAAAAAAAAAAAAAAAAAAAAAAAAAAAAAAAAAAAAAAAAAAAAAAAAAAAAAAAAAAAAAAAAAAAAAAAAAAAAAAAAAAAAAAAAAAAAAAAAAAAAAAAAAAAAAAAAAAAAAAAAAAAAAAAAAAAAAAAAAAAAAAAAAAAAAAAAAAAAAAAAAAAAAAAAAAAAAAAAAAAAAAAAAAAAAAAAAAAAAAAAAAAAAAAAAAAAAAAAAAAAAAAAAAAAAAAAAAAAAAAAAAAAAAAAAAAAAAAAAAAAAAAAAAAAAAAAAAAAAAAAAAAAAAAAAAAAAAAAAAAAAAAAAAAAAAAAAAAAAAAAAAAAAAAAAAAAAAAAAAAAAAAAAAAAAAAAAAAAAAAAAAAAAAAAAAAAAAAAAAAAAAAAAAAAAAAAAAAAAAAAAAAAAAAAAAAAAAAAAAAAAAAAAAAAAAAAAAAAAAAAAAAAAAAAAAAAAAAAAAAAAAAAAAAAAAAAAAAAAAAAAAAAAAAAAAAAAAAAAAAAAAAAAAAAAAAAAAAAAAAAAAAAAAAAAAAAAAAAAAAAAAAAAAAAAAAAAAAAAAAAAAAAAAAAAAAAAAAAAAAAAAAAAAAAAAAAAAAAAAAAAAAAAAAAAAAAAAAAAAAAAAAAAAAAAAAAAAAAAAAAAAAAAAAAAAAAAAAAAAAAAAAAAAAAAAAAAAAAAAAAAAAAAAAAAAAAAAAAAAAAAAAAAAAAAAAAAAAAAAAAAAAAAAAAAAAAAAAAAAAAAAAAAAAAAAAAAAAAAAAAAAAAAAAAAAAAAAAAAAAAAAAAAAAAAAAAAAAAAAAAAAAAAAAAAAAAAAAAAAAAAAAAAAAAAAAAAAAAAAAAAAAAAAAAAAAAAAAAAAAAAAAAAAAAAAAAAAAAAAAAAAAAAAAAAAAAAAAAAAAAAAAAAAAAAAAAAAAAAAAAAAAAAAAAAAAAAAAAAAAAAAAAAAAAAAAAAAAAAAAAAAAAAAAAAAAAAAAAAAAAAAAAAAAAAAAAAAAAAAAAAAAAAAAAAAAAAAAAAAAAAAAAAAAAAAAAAAAAAAAAAAAAAAAAAAAAAAAAAAAAAAAAAAAAAAAAAAAAAAAAAAAAAAAAAAAAAAAAAAAAAAAAAAAAAAAAAAAAAAAAAAAAAAAAAAAAAAAAAAAAAAAAAAAAAAAAAAAAAAAAAAAAAAAAAAAAAAAAAAAAAAAAAAAAAAAAAAAAAAAAAAAAAAAAAAAAAAAAAAAAAAAAAAAAAAAAAAAAAAAAAAAAAAAAAAAAAAAAAAAAAAAAAAAAAAAAAAAAAAAAAAAAAAAAAAAAAAAAAAAAAAAAAAAAAAAAAAAAAAAAAAAAAAAAAAAAAAAAAAAAAAAAAAAAAAAAAAAAAAAAAAAAAAAAAAAAAAAAAAAAAAAAAAAAAAAAAAAAAAAAAAAAAAAAAAAAAAAAAAAAAAAAAAAAAAAAAAAAAAAAAAAAAAAAAAAAAAAAAAAAAAAAAAAAAAAAAAEtVTkRBTl9SQUoAAAAFkAMAAgAAABQAABCkkAQAAgAAABQAABC4kpEAAgAAAAMxMwAAkpIAAgAAAAMxMwAA6hwABwAACAwAAAiYAAAAABzqAAAACAAAAAAAAAAAAAAAAAAAAAAAAAAAAAAAAAAAAAAAAAAAAAAAAAAAAAAAAAAAAAAAAAAAAAAAAAAAAAAAAAAAAAAAAAAAAAAAAAAAAAAAAAAAAAAAAAAAAAAAAAAAAAAAAAAAAAAAAAAAAAAAAAAAAAAAAAAAAAAAAAAAAAAAAAAAAAAAAAAAAAAAAAAAAAAAAAAAAAAAAAAAAAAAAAAAAAAAAAAAAAAAAAAAAAAAAAAAAAAAAAAAAAAAAAAAAAAAAAAAAAAAAAAAAAAAAAAAAAAAAAAAAAAAAAAAAAAAAAAAAAAAAAAAAAAAAAAAAAAAAAAAAAAAAAAAAAAAAAAAAAAAAAAAAAAAAAAAAAAAAAAAAAAAAAAAAAAAAAAAAAAAAAAAAAAAAAAAAAAAAAAAAAAAAAAAAAAAAAAAAAAAAAAAAAAAAAAAAAAAAAAAAAAAAAAAAAAAAAAAAAAAAAAAAAAAAAAAAAAAAAAAAAAAAAAAAAAAAAAAAAAAAAAAAAAAAAAAAAAAAAAAAAAAAAAAAAAAAAAAAAAAAAAAAAAAAAAAAAAAAAAAAAAAAAAAAAAAAAAAAAAAAAAAAAAAAAAAAAAAAAAAAAAAAAAAAAAAAAAAAAAAAAAAAAAAAAAAAAAAAAAAAAAAAAAAAAAAAAAAAAAAAAAAAAAAAAAAAAAAAAAAAAAAAAAAAAAAAAAAAAAAAAAAAAAAAAAAAAAAAAAAAAAAAAAAAAAAAAAAAAAAAAAAAAAAAAAAAAAAAAAAAAAAAAAAAAAAAAAAAAAAAAAAAAAAAAAAAAAAAAAAAAAAAAAAAAAAAAAAAAAAAAAAAAAAAAAAAAAAAAAAAAAAAAAAAAAAAAAAAAAAAAAAAAAAAAAAAAAAAAAAAAAAAAAAAAAAAAAAAAAAAAAAAAAAAAAAAAAAAAAAAAAAAAAAAAAAAAAAAAAAAAAAAAAAAAAAAAAAAAAAAAAAAAAAAAAAAAAAAAAAAAAAAAAAAAAAAAAAAAAAAAAAAAAAAAAAAAAAAAAAAAAAAAAAAAAAAAAAAAAAAAAAAAAAAAAAAAAAAAAAAAAAAAAAAAAAAAAAAAAAAAAAAAAAAAAAAAAAAAAAAAAAAAAAAAAAAAAAAAAAAAAAAAAAAAAAAAAAAAAAAAAAAAAAAAAAAAAAAAAAAAAAAAAAAAAAAAAAAAAAAAAAAAAAAAAAAAAAAAAAAAAAAAAAAAAAAAAAAAAAAAAAAAAAAAAAAAAAAAAAAAAAAAAAAAAAAAAAAAAAAAAAAAAAAAAAAAAAAAAAAAAAAAAAAAAAAAAAAAAAAAAAAAAAAAAAAAAAAAAAAAAAAAAAAAAAAAAAAAAAAAAAAAAAAAAAAAAAAAAAAAAAAAAAAAAAAAAAAAAAAAAAAAAAAAAAAAAAAAAAAAAAAAAAAAAAAAAAAAAAAAAAAAAAAAAAAAAAAAAAAAAAAAAAAAAAAAAAAAAAAAAAAAAAAAAAAAAAAAAAAAAAAAAAAAAAAAAAAAAAAAAAAAAAAAAAAAAAAAAAAAAAAAAAAAAAAAAAAAAAAAAAAAAAAAAAAAAAAAAAAAAAAAAAAAAAAAAAAAAAAAAAAAAAAAAAAAAAAAAAAAAAAAAAAAAAAAAAAAAAAAAAAAAAAAAAAAAAAAAAAAAAAAAAAAAAAAAAAAAAAAAAAAAAAAAAAAAAAAAAAAAAAAAAAAAAAAAAAAAAAAAAAAAAAAAAAAAAAAAAAAAAAAAAAAAAAAAAAAAAAAAAAAAAAAAAAAAAAAAAAAAAAAAAAAAAAAAAAAAAAAAAAAAAAAAAAAAAAAAAAAAAAAAAAAAAAAAAAAAAAAAAAAAAAAAAAAAAAAAAAAAAAAAAAAAAAAAAAAAAAAAAAAAAAAAAAAAAAAAAAAAAAAAAAAAAAAAAAAAAAAAAAAAAAAAAAAAAAAAAAAAAAAAAAAAAAAAAAAAAAAAAAAAAAAAAAAAAAAAAAAAAAAAAAAAAAAAAAAAAAAAAAAAAAAAAAAAAAAAAAAAAAAAAAAAAAAAAAAAAAAAAAAAAAAAAAAAAAAAAAAAAAAAAAAAAAAAAAAAAAAAAAAAAAAAAAAAAAAAAAAAAAAAAAAAAAAAAAAAAAAAAAAAAAAAAAAAAAAAAAAAAAAAAAAAAAAAAAAAAAAAAAAAAAAAAAAAAAAAAAAAAAAAAAAAAAAAAAAAAAAAAAAAAAAAAAAAAAAAAAAAAAAAAAAAAAAAAAAAAAAAAAAAAAAAAAAAAAAAAAAAAAAAAAAAAAAAAAAAAAAAAAAAAAAAAAAAAAAAAAAAAAAAAAAAAAAAAAAAAAAAAAAAAAAAAAAAAAAAAAAAAAAAAAAAAAAAAAAAAAAAAAAAAAAAAAAAAAAAAAAAAAAAAAAAAAAAAAAAAAAAAAAAAAAAAAAAAAAAAAAAAAAAAAAAAAAAAAAAAAAAAAAAAAAAAAAAAAAAAAAAAAAAAAAAAAAAAAAAAAAAAAAAAAAAAAAAAAAAAAAAAAAAAAAAAAAAAAAAAAAAAAAAAAAAAAAAAAAAAAAAAAAAAAAAAAAAAAAAAAAAAAAAAAAAAAAAAAAAAAAAAAAAAAAAAAAAAAAAAAAAAAAAAAAAAAAAAAAAAAAAAAAAAAAAAAAAAAAAAAAAAAAAAAAAAAAAAAAAAAAAAAAAAAAAAAAAAAAAAAAAAAAAAAAAAAAAAAAAAAAAAAAAAAAAAAAAAAAAAAAAAAAAAAAAAAAAAAAAAAAAAAAAAAAAAAAAAMjAyMTowODoyMyAxNToyNjozOQAyMDIxOjA4OjIzIDE1OjI2OjM5AAAASwBVAE4ARABBAE4AXwBSAEEASgAAAP/hCx1odHRwOi8vbnMuYWRvYmUuY29tL3hhcC8xLjAvADw/eHBhY2tldCBiZWdpbj0n77u/JyBpZD0nVzVNME1wQ2VoaUh6cmVTek5UY3prYzlkJz8+DQo8eDp4bXBtZXRhIHhtbG5zOng9ImFkb2JlOm5zOm1ldGEvIj48cmRmOlJERiB4bWxuczpyZGY9Imh0dHA6Ly93d3cudzMub3JnLzE5OTkvMDIvMjItcmRmLXN5bnRheC1ucyMiPjxyZGY6RGVzY3JpcHRpb24gcmRmOmFib3V0PSJ1dWlkOmZhZjViZGQ1LWJhM2QtMTFkYS1hZDMxLWQzM2Q3NTE4MmYxYiIgeG1sbnM6ZGM9Imh0dHA6Ly9wdXJsLm9yZy9kYy9lbGVtZW50cy8xLjEvIi8+PHJkZjpEZXNjcmlwdGlvbiByZGY6YWJvdXQ9InV1aWQ6ZmFmNWJkZDUtYmEzZC0xMWRhLWFkMzEtZDMzZDc1MTgyZjFiIiB4bWxuczp4bXA9Imh0dHA6Ly9ucy5hZG9iZS5jb20veGFwLzEuMC8iPjx4bXA6Q3JlYXRlRGF0ZT4yMDIxLTA4LTIzVDE1OjI2OjM5LjEyNjwveG1wOkNyZWF0ZURhdGU+PC9yZGY6RGVzY3JpcHRpb24+PHJkZjpEZXNjcmlwdGlvbiByZGY6YWJvdXQ9InV1aWQ6ZmFmNWJkZDUtYmEzZC0xMWRhLWFkMzEtZDMzZDc1MTgyZjFiIiB4bWxuczpkYz0iaHR0cDovL3B1cmwub3JnL2RjL2VsZW1lbnRzLzEuMS8iPjxkYzpjcmVhdG9yPjxyZGY6U2VxIHhtbG5zOnJkZj0iaHR0cDovL3d3dy53My5vcmcvMTk5OS8wMi8yMi1yZGYtc3ludGF4LW5zIyI+PHJkZjpsaT5LVU5EQU5fUkFKPC9yZGY6bGk+PC9yZGY6U2VxPg0KCQkJPC9kYzpjcmVhdG9yPjwvcmRmOkRlc2NyaXB0aW9uPjwvcmRmOlJERj48L3g6eG1wbWV0YT4NCiAgICAgICAgICAgICAgICAgICAgICAgICAgICAgICAgICAgICAgICAgICAgICAgICAgICAgICAgICAgICAgICAgICAgICAgICAgICAgICAgICAgICAgICAgICAgICAgICAgICAKICAgICAgICAgICAgICAgICAgICAgICAgICAgICAgICAgICAgICAgICAgICAgICAgICAgICAgICAgICAgICAgICAgICAgICAgICAgICAgICAgICAgICAgICAgICAgICAgICAgIAogICAgICAgICAgICAgICAgICAgICAgICAgICAgICAgICAgICAgICAgICAgICAgICAgICAgICAgICAgICAgICAgICAgICAgICAgICAgICAgICAgICAgICAgICAgICAgICAgICAgCiAgICAgICAgICAgICAgICAgICAgICAgICAgICAgICAgICAgICAgICAgICAgICAgICAgICAgICAgICAgICAgICAgICAgICAgICAgICAgICAgICAgICAgICAgICAgICAgICAgICAKICAgICAgICAgICAgICAgICAgICAgICAgICAgICAgICAgICAgICAgICAgICAgICAgICAgICAgICAgICAgICAgICAgICAgICAgICAgICAgICAgICAgICAgICAgICAgICAgICAgIAogICAgICAgICAgICAgICAgICAgICAgICAgICAgICAgICAgICAgICAgICAgICAgICAgICAgICAgICAgICAgICAgICAgICAgICAgICAgICAgICAgICAgICAgICAgICAgICAgICAgCiAgICAgICAgICAgICAgICAgICAgICAgICAgICAgICAgICAgICAgICAgICAgICAgICAgICAgICAgICAgICAgICAgICAgICAgICAgICAgICAgICAgICAgICAgICAgICAgICAgICAKICAgICAgICAgICAgICAgICAgICAgICAgICAgICAgICAgICAgICAgICAgICAgICAgICAgICAgICAgICAgICAgICAgICAgICAgICAgICAgICAgICAgICAgICAgICAgICAgICAgIAogICAgICAgICAgICAgICAgICAgICAgICAgICAgICAgICAgICAgICAgICAgICAgICAgICAgICAgICAgICAgICAgICAgICAgICAgICAgICAgICAgICAgICAgICAgICAgICAgICAgCiAgICAgICAgICAgICAgICAgICAgICAgICAgICAgICAgICAgICAgICAgICAgICAgICAgICAgICAgICAgICAgICAgICAgICAgICAgICAgICAgICAgICAgICAgICAgICAgICAgICAKICAgICAgICAgICAgICAgICAgICAgICAgICAgICAgICAgICAgICAgICAgICAgICAgICAgICAgICAgICAgICAgICAgICAgICAgICAgICAgICAgICAgICAgICAgICAgICAgICAgIAogICAgICAgICAgICAgICAgICAgICAgICAgICAgICAgICAgICAgICAgICAgICAgICAgICAgICAgICAgICAgICAgICAgICAgICAgICAgICAgICAgICAgICAgICAgICAgICAgICAgCiAgICAgICAgICAgICAgICAgICAgICAgICAgICAgICAgICAgICAgICAgICAgICAgICAgICAgICAgICAgICAgICAgICAgICAgICAgICAgICAgICAgICAgICAgICAgICAgICAgICAKICAgICAgICAgICAgICAgICAgICAgICAgICAgICAgICAgICAgICAgICAgICAgICAgICAgICAgICAgICAgICAgICAgICAgICAgICAgICAgICAgICAgICAgICAgICAgICAgICAgIAogICAgICAgICAgICAgICAgICAgICAgICAgICAgICAgICAgICAgICAgICAgICAgICAgICAgICAgICAgICAgICAgICAgICAgICAgICAgICAgICAgICAgICAgICAgICAgICAgICAgCiAgICAgICAgICAgICAgICAgICAgICAgICAgICAgICAgICAgICAgICAgICAgICAgICAgICAgICAgICAgICAgICAgICAgICAgICAgICAgICAgICAgICAgICAgICAgICAgICAgICAKICAgICAgICAgICAgICAgICAgICAgICAgICAgICAgICAgICAgICAgICAgICAgICAgICAgICAgICAgICAgICAgICAgICAgICAgICAgICAgICAgICAgICAgICAgICAgICAgICAgIAogICAgICAgICAgICAgICAgICAgICAgICAgICAgICAgICAgICAgICAgICAgICAgICAgICAgICAgICAgICAgICAgICAgICAgICAgICAgICAgICAgICAgICAgICAgICAgICAgICAgCiAgICAgICAgICAgICAgICAgICAgICAgICAgICAgICAgICAgICAgICAgICAgICAgICAgICAgICAgICAgICAgICAgICAgICAgICAgICAgICAgICAgICAgICAgICAgICAgICAgICAKICAgICAgICAgICAgICAgICAgICAgICAgICAgICAgICAgICAgICAgICAgICAgICAgICAgICAgICAgICAgICAgICAgICAgICAgICAgICAgICAgICAgICAgICAgICAgICAgICAgIAogICAgICAgICAgICAgICAgICAgICAgICAgICAgPD94cGFja2V0IGVuZD0ndyc/Pv/bAEMABwUFBgUEBwYFBggHBwgKEQsKCQkKFQ8QDBEYFRoZGBUYFxseJyEbHSUdFxgiLiIlKCkrLCsaIC8zLyoyJyorKv/bAEMBBwgICgkKFAsLFCocGBwqKioqKioqKioqKioqKioqKioqKioqKioqKioqKioqKioqKioqKioqKioqKioqKioqKv/AABEIAWUCFQMBIgACEQEDEQH/xAAfAAABBQEBAQEBAQAAAAAAAAAAAQIDBAUGBwgJCgv/xAC1EAACAQMDAgQDBQUEBAAAAX0BAgMABBEFEiExQQYTUWEHInEUMoGRoQgjQrHBFVLR8CQzYnKCCQoWFxgZGiUmJygpKjQ1Njc4OTpDREVGR0hJSlNUVVZXWFlaY2RlZmdoaWpzdHV2d3h5eoOEhYaHiImKkpOUlZaXmJmaoqOkpaanqKmqsrO0tba3uLm6wsPExcbHyMnK0tPU1dbX2Nna4eLj5OXm5+jp6vHy8/T19vf4+fr/xAAfAQADAQEBAQEBAQEBAAAAAAAAAQIDBAUGBwgJCgv/xAC1EQACAQIEBAMEBwUEBAABAncAAQIDEQQFITEGEkFRB2FxEyIygQgUQpGhscEJIzNS8BVictEKFiQ04SXxFxgZGiYnKCkqNTY3ODk6Q0RFRkdISUpTVFVWV1hZWmNkZWZnaGlqc3R1dnd4eXqCg4SFhoeIiYqSk5SVlpeYmZqio6Slpqeoqaqys7S1tre4ubrCw8TFxsfIycrS09TV1tfY2dri4+Tl5ufo6ery8/T19vf4+fr/2gAMAwEAAhEDEQA/APoiiud8aajcafpEP2S4a3kmuY4962c05ILgYHlkEHnv97oOTTfA9/e6nocl3f3HnGS5lKZtZYSo3nH+sY5GMYxwOnJBqFNObj/X9ambqJT5Op0lFc7r+oXVl4k0UWsF1dLIJ99tbyIpfCrgneyqce5rBvbi81HwPrc10imOK/mMtpfhpDsVgRGGjkG3B9CRU+0vJxS2/wCB/mKdRRT0/q1z0CisfVb3UY9WsdP0s2sZuYpXaW4Rn8vZsxhQRuzuxjI9c8YOLJqWt6nD4durO8tbM3MrJLGbd3VnEcmTxIuU+XhTyDg54xTc9bJDlO19DsqKjgEqwILl0klCje8aFFY+oBJwPbJrm9SOpL4wnbSXtI3XTFZmukZxxI+AApXr6549D2c58rX9dG/0Lbdr2OooriZ/Gt9cKkmm2pBWziuXg+wXFyZWkXcIw8Q2x8cbiDnPTjnU1W2tpNf8PX5tI0umuGXzWjAkCmCQ7SeuM9qOZNtLo7foZKtGSvE6KiuX1HX9Ti/ta7sfsa2ekOEminRi8+EV2w4YBPlYAZVuRRc+LjaW+pJLGv2u3M/kgL8mFQOm/Jzkhu3XB6Uc6/Ur2kb6+n9fcdRRVRTqJ1GLd9mFl5B8z73m+bkYx224z75xVurLTuFFc14dibV421i6vLv7R9qlRYkuGWKJEkZAnlg7TwvJYFueowMLpup6/fzLcfZ7P7Et7LbvGoPmGNWZRLuLYGCACuDnk5GcCFLa/X/gf5/0tSOfS9v6/r+r6HSUVyOkeKr7UdSt2+zs1lcyOu1dOuE8hRna5nYeW4O3kADG7gnHLrHxPd3uuRWcM8E0N5HKYJV0+dEjZcEHzHIWZevK7c8HvUqrFpNdRe1j+Nv6/q51lFctoF3q1tot5f6tf293b273RKJbOsnySN/GZGGOOBjgYGeKd4e8QajqV+kV5AWhmgMokTTri3WBsj5C0oxJkHhhj7p454pTTaXX+v8AIParS6tc6eiorq4S1s5riR0RIkLlpG2qABnk9hXP+H/ENzqOsTWVy6zJ9nW4ilGnzWnBYgjbKTu7HcOOtPmXMo9X/X6MuUlFpPqdLRVDWr+XTdMaa3RJJ3kSGISEhd7sFBbHOATk4rn7S7udKv8AxHcaneWhmT7P++S3dE5TA/dhmZjz90HLHgYzUymosTlZ2OvoriLnXtWv/DOvLDcxwXNgm4XBsJrcshjzxG7hkYHPzZI9q3Lm9vtJ0NptS1CyadnVIpEs5AMtgAeWHZpG9gRn260KomrkqonrbT5dDborhNT8Q6vd+B9akhihaW1Z4JJmWazbaUUhlidWYH58YJHTOea0gbzQbLTrPSdH0qwmvbsxPFAxaJR5bHzMhEJPyjjHOMZGcg9or/d+IlWTeh1NFc5d6vqWn6ZGmoy2tvfyXDxRtHaS3AmQZIZII2L/AHeo3ccmsebxpq5sLWa1gs9/kzSTiaKRNxjnWLCqSCmd2cNkr70e0j/XpccqsY7/ANa2/rod3RXFyeLNS3pZL5K3atP5s0em3FyjBJCi4jjJK5x1LcY7546nSruW/wBJtrq4tntZZYwzwyKQUbuMEA/mAacZxnsONROXL1LdFYk/iD7Drs1leoPLYwC3ZB8x37wS2T0BTqPWsFNS1me6k1O0+xQzHRYrmQSxu6n5pGChQwxkd8nHoc8TKoo7/wBaXG59t/8Ag2O5ormdSLX2oeG7+SO3aB51ZI3R/MjdonO4OHA6DGCpq219qd9rt1aabJa20FjsEz3EDStKzDdhQHXaAMcnOSenHN8zTaa62Fz9kbdFcbc3+paZquvXtp9l+yw3Vv5qSIzPIDHGCFIICYByCQ2T2GOeyojLmKUrtoKKwJLO2h8f2txDbxRzz2M/myqgDSYeLG49Tj3qqPEGpMqakPsY017/AOx/Z2RvOx5vlb/M3bc7udu3p3zS5tr/ANa2JdTlvfp/lc6miuWtPEGpyjTtQm+x/wBnajc+RHbrGwmiBLBWL7irH5eRtGM9Tjmj4H1W5u1Om2ixww2c073DToS826eTAjGRwMHLnIzwB1ISqJtJf1s/yd/+CL2q5ku529Fc9o+s3t1rEtrqrxWsmZBFZtZSIxCtgMsxbZKNuCdo43dsV0NVGSkrouMlLYKK5/QLOCx1PXoNPghtYxcoVSOMKgJhQ52jHfmsqCNovB/i2OVIBMst15r26OiysYVJbaztg89AccVnKo4xcrbJv8v8xczulbd2/P8AyO1orkNP8Tz/APCM3OrLHGLKyiEKW7I3ntKuBl8fcBJ4XaWwQe+K0PD2sX9/dXFvfxM6xxq6XI06e0UkkgptlySRgHIPOegxzpzx5uVERqxdvM36Kqaperp2lz3TyxxCNch5QSoPQcDk8noOT071ztp4l1S4sdXSKAXV5YiJo2GnzW+5X6nyZG3krhjgH5uAMGk5pOxcpqLSfU62is3Qr86hp7SSXcVzKkhSQx2r2xQj+Fo3Ysp789QQaNevL2x0pptNg86Xein900vloWAZ/LUhnwOdoOTTcklcaknHmNKiuSvr251Cx0SW0urW4uv7S2GQ27wojCOQENEzFwQP4SQSR1GeHwa9q11LDpsbWSX5uLiKS5aFjFtixyI94OTvXjdxycnpU+0V7f10/wA0T7Rf1+X4HVUVycHi6eB/+JrDEUjSaOQ2wOXljlWM7QT0IcHB5GDyalXW9XvL2C1shZRefLdhZpUZwqROFU7Qw3E5IPI9e2Ce0TSa6h7RHT0Vn6DqEmq6Fa3k6KksifvAmdu4Eg4z2yK0KtNNXRad1cKKKKYwooooAKKKKACiiigAooooAgurOC9SNblN6xyrKo3EYZTlTx6EdKW0tIbG0jtrVNkMYwq7icD6nmqeuazHodgLmWGaYtIsapFC75LEDnYrY6+nJwOppug67Dr1pLPBDNEsczxjzYZE3BWKgjeq+nIGcHg81PNHmt1/r/gEc0VK3UuS2NvPe293LHuntgwifcRt3DB46Hp3qjd+GNKvbWW3ninEM0rzSpFdyxiRm+8W2sMjjoeBSavq13ZajYWOn2cFzNeeYQZ7gwqgQAnkIxPX0plr4mtpNNNxdwzwzxzNbzW0UT3DpIv3gBGCWHQ7sdCM46VDdNtp/wBbf8D8BScH7sv6/pF6DS7WB7d1EryWyOkUks7yMAxBbLMST0HXPSopNB06XTIrAwutvC++Ly5nR42yTlXUhgeT0PciqV/4usbOHTpoY7i6hv3AR4LaVwFIJz8qH5uMbOG68cVduNdsrWzhuZhdhJgWVFspmkAHUmMIWUD1IHUetPmpu97af8OF6fw6bfgXYIVt4EhjLlUUKDJIzsfqzEkn3JqjqHh/T9Tuhc3aTmTy/KbyrqWIOmSdrKjAMOTwQetV7rW7l7uxg0S2tb0Xlu9wss100SbAVxghHznePSpLzxHYaW8VvqsvlXjw+abeCOSYkD7xXauWA55x05IFOTg/i/H+vUOaDVumnp5eXYfdeHtOu7hJ2jmglSMRhrS5ktyUHRT5bLkDsDnGTjrSX/h6w1O7jubs3nmxcxmK+niCHBGQqOADgkZxnmi68SaXZwxTTTyGGWMSiWKCSRFQ9GZlUhAfViBwfQ1FfeLdF068ktbu8ZZo/vIsEj4O3cB8qnkrzjuAfQ4Jci+K3/BJfsnvb+tia68O6ZeXv2q4gcyEqXCzuqSlful0DBXx/tA9KLnw5pV3JcSXFrva5kjklPmONzJ908Hj3x175ps/iXSre4SGS5YllRi6Qu6Rh/uF3AKpntuIplxrrweJLPSxYyeXcl1+0u20blTfhV6sOxPA54zzg9xf11G3T8v+HLx061bVU1Ixf6WkJgWTceEJBIxnHUDnGatUUVaVtjSy3M1dA05NSa+jikSV5PNdEnkETv8A3zEG2FuByRnIB6irlraQWUJitk2IXaQjJPzMxZjz7k1NRSSS2BRS1SM220Cws7w3Nqs8RLMxiW6lEOW6nyt2znJP3evPWorLwvpOnXkN1awSiWBWWEyXMsgiU9VUMxCj2GBwPSteilyxXQnkj2KEGiWNteT3MKSq1wWMsf2iQxMW6nyi2wE9yBnr60mnaHZaVIWsftKLt2LE93K8aD0VGYquO2AMDitCimopbIfLG97EVzbxXlrLbXKCSGZCjoejAjBFUtO8P6dpd011aRy/aHjETSzXMkzFAchcuxOB6dq0qKLK9+o3FPVogvbK31GzktbyPzIZBhlDFT1yCCMEEEZBHINZ6eF9IjtLm3W2cpdMrTO08hkdlOVYuW3bh/ezngela9FJxi90JxTd2jNs/D+m2MV1HBbswvBi5M0rytNxj5i5JPHH0pn/AAjemnTfsLrcyQCRZF8y9md42X7pVy+5cY7EVq0UcsewckbWt/T3MuPw3pUWm3Vgtsxt7xt1wHmdmlJABJYndkgDnNXprOC4mt5Zk3PbOXiOSNrbSuffhj1qainZAoxWyKWo6RZ6r5P2xJN0DFopIZ3hdCRg4ZCDyD0zVVfC2jJbrAlkFiRHRVEj8KziRh17soNa9FLlje9gcYvVoy5/DemXG0mGWJ1keQSwXMkUgLnLjejBsE87c44HHArRhiWCBIkLlUUKC7l2IHqxJJPuTmn0U0ktg5Une2pQvNE0+/uJJ7uDzJJIDbsfMYZTOcYB4Oe/UetKmj2CIyJbgK1stoQGb/VLnC9fc89avUUuWPb+v6b+8dle5k3fhnTbxrczC7X7MqrCsV/PEqbQQCArgZwSM9aludCsbq8W7dbiOcKqmSC6lhLgdA+xhvxz97PU+taNFPlXYn2cOxSm0ixuI7pJoNy3jK843sN5UAA9ePujp6VdooosizLk8PWEurLqTm8+1KcqwvpwoGQSAgfbtOBkYwccilHh7TF1L7cIHEvmGbb5z+V5mMb/ACs7N3+1jOeetadFLlitkTyR7GZb+HdMtb8XkEDLIrM6IZnMcbNncyxk7FJyeQAeT6mli8P6ZA9s8FuY3tXd4mSVwRvbcwJB+ZSTnacjpxwK0qKfKl0Dkj2M610GxtL4XiC5lnAYK1zdyz7Aeu0OxC5x2xWgRuUg5wRjg4paKEklZDSS2Mqy8N6fYTTy2zXokuFKytJqE8m7gDPzOecAAHqOxptr4X0u0iu44kumS9VluFmvZpRJuGCcM55IAG4c+9a9FTyR7E8kFay2M46Dphlmka1U+fALeZSzFJUHADLnDEDjJGccZqTTtJttLVxavdMGABFxeSz4x0x5jHH4Yq7RVWV7j5I3vYr31jb6lZSWl5H5kMmNwDFTwcgggggggHI5qjD4Z0y3iuEgW6ja62edKt7MJX2525k37u+OvTjpWtRS5U9WgcYt3aKmn6ba6XC0VmjAO5d2kkaR3bplnYlmOAByegAp97Yxahb+TO86LkHMFxJC3/fSEH8M1YoptJqzHypKyWhQt9E0+2hgiigbEExnRnlZmMhBBZmJJY4Y/eJ/So5/DumXCkPA6sZ2uBJFO8ciuwwxV1YMuRwQCBWnRS5Yvp/X9JfcLlja1jNXw/paLaKtqAtmrrCN7cb/AL2efmJ6ktk55680+z0XT7BbYWkHli1R0h+djtDkFup5yQDk5q/RTsg5YroQWdnBp9oltaJ5cMedq5Jxk56nnqanoop7FBRRRQAUUUUAFFFFABRRRQAUUUUAY/iLRTrlrbQrLLH5dzHI+y5khygcFh8h5OBxnoeQR1p3hrRf7B0OKzZ3eTczyFp3lG4nJwW5A/LnJ6k1oXF5bWjwpdXMMLXEnlQrI4UyPgnauepwCcD0NFve2t2062lzDO1vIYphHIGMTgAlWx0OCDg88ipUUndb/wDDf8Ajkjz89tTL1qw1GXV9M1DS4rWZrMSh47idogd6gDBVG9PSsuXw3rCW0RiuUmlmuJbm+iS8ltFd3AC7XjBfaoGMcZ6nHSuuqjrOs2Hh/SZdS1ef7PaQlQ8mxnxuYKOFBPUgdKl002/P/gf5IUqakzEtfDmo2XhfTbSKS2lvdPuzcAPI4jly7nBYgsPlfqQ3Pr1qXWdM1vU5LSRGijVYnWa2j1KeBVkJGHEkahpAAD8p2jmuk60UOmmmu/8Aw39ffuL2a5eVbWS+45a08HxvFo0Os29lfRWFk8DpLH5gMhKYZQw9FPJ55rUTSBF4iS9jSFLaOx+ypGowV+fOAMYC4A/KtWiq5Ve/9dV+o1Titl2/C3+RyHiHwzqmoyTwafJEljJaCCCL7bNbJbH5gf3cQxICCv3iMY6EcF154Vvri6eVJbcK0jOMs3Q2hh9P7xz9Pyrray7rxNoNjq0el3ut6db6hKVEdpNdxpK5Y4UBCcnPbjmo9lF3XcPZx5uY55/B12JWSWNL62uI4lmjbVbm1CFUVGGxAVkBCg8gHsc9tPV7HWrjxHpt5Y2tg9vYM5HnXjo8m9Np4ETAY+pz7V0VFU4L8bkqjFKy0Ciq97f22nRRyXknlpJMkKnaTl3YKo49SQKsVZsFFFFABRRRQAUUUUAFFFFABRVXUdTsNIsXvNWvbextYyA89zKsaLk4GWYgDJOKbp+radq1h9t0m/tr61yQJ7WZZUJHUblJHFAFyiqWj6xY6/pFvqmkT/aLO5UtFLsZdwyR0YAjkHqKu0bAFFFRz3MFrGHuZo4UZ1QNIwUFmIVVye5JAA7k0ASUUUUAFFFFABRRRQAUUUUAFFFFABRRRQAUUUUAFFFFABRRRQAUUUUAFFFFABRRRQAUUUUAFFFFABRRRQAUUUUAFFFFABRRRQAUUUUAFFFFAHKeMbKXUdU0K3tmiW4SeW4hMhIAkSJih47biM+1crMqaJqd9aanqMtjpc+rRvqt7BM1sFJslOWmUgxq0qjLArkkLnnB9VopagtLnnVlqU1jo8etw6pd3Gh6fqzpHcT3DSiexcBC7OTl1SRiwkYn5Ezkg5LfE97Bpnw3+3a9rk+malcO97arJqj2zq7tuEICuN4RWC7ORxnFej0U/wCvy/yv6iaurev6/wCdvSx51468QJNJostpqFkdBuo5pDfHXpdNt5JRtCL9phVj0MhC5Abaeu3Fdb4UkupfCenvqF7bX87Qgm6tZvOjlGflYSbV3/LjLYGTk4FbFFC0VhhRRRQAV5xqmm6rrnirxfotjb2Bs9QtbWC5ubmdg8CtG4LJEEIcgEkZdecV6PRSauGt7o4aXQ73WfEeu2yeINTtFs4rZbJYp2VIZfLJ8xlUr5gPGUY7TzkZ5GTr+phdV1kXGtXtt4kguo00XTorx4hOm1Cm23DbZkZy4dirYG7ldvHp9FNXTv8A1uKytY8q1a9sb3X9moapdPrsHiC3SPTUvJQkFus0exzbqdm0qQ3mOpyzgBvuqNCTxOkdwuktqsn9q/8ACSBHtRKxlSBpsruA5WMoQAThTkAdQK9Foojpy+X/ANr/API/iwmuZPz/AOD/AJ/gcLol7p1x4tuV8Q65JD4gW+mjtdLbU5IF8gEiLbbhwsoKfPuKtkk8/KAuH4b1XUbzxxCtzq1jbagbydbywn8QStO8QD4jWwaIImAEYMhyVXduYMc+rUULS39f159xy1v5nDeEtHvr1ItauPEGpSzx6neAxSTs0LW4mlQQ+XkLxwQ5BYYxnbgCp4J1e3k8W3VmmqQ67NMkspv7DW5buJFEgIEtuT5dsxDAKEyDtbGMYr0SijrcOmoUUUUAFFFFAHI/Eu5gs/C9pc3c0cEEOr6e8ksrBVRRdxEsSeAAO9Z9nfaJfa74m1pb+O38OT2trDNqkV4beGadWkDMkysvIVokLq3UBc5Ugd9RTv7vL/Wtl+g/6/G55jBro1b4T2I0LxGz3a39payXltdieaLddovzMS2SVPR85B5yDV/xRY3/AIW8M3P2DU7yeyub6EyteajMhtISAJM3WJJEQlRlgPkDMQVHzL39FTbS3n/l/l+IJ6WPLbXUrtfCUby69anQ5NXEdxe6brUl8bO18vLK12yq4zLgFzyiycMMAi54qsNA1DwBaXmmatd3umWV/byteW+t3EqrGLmMyu0olJYIAxySdmCRtxXo1FVfW/p+Fv8AIE7P+vM8+1S/0SO20OOLxDKnhOb7QZ9Uj1mUhpV2+WjXnmbgCTJxvGSgX2NfTxfaxH4dtP7Y1NNPmub4JMtwVlvbRc+VmQfMQV2kSAhyMHOTmvSaKlq/9f16egntY838XIfD2k6Va6h4ptmSAzn7PqGuy6XLdpnMZE6MZHaNSFIOQ+7ccECu80i7W/0Wyu0guLdZ4EkEN0CJYwVB2vkk7h0PJ5q5RVX0B9AooopAFFFFABRRRQAUUUUAFFFFABRRRQAUUUUAFFFFABRRRQAUUUUAFFFFABRRRQAUUUUAFFFFABRRRQAUUUUAFFFFABRRRQAUUUUAFFFFABRRRQAUUUUAFFFFABRRRQAUUUUAFFFFABRRRQAUUUUAFFFFABRRRQAUUUUAFFFFABRRRQAUUUUAFFFFABRRRQAUUUUAFFFFABRRRQAUUUUAFFFFABRRRQAUUUUAFFFFABRRRQAUUUUAFFFFABRRRQAUUUUAFFFFABRRRQAUUUUAZmr69a6LcadFdRzMdQuhaxmNQQjEEgtkjA4xxnkjiqtt4w0ia31W4urhdPttKu/stxcXzpFGW2qQwYnG07wATjP5UniLRX1rUNMRhILaMzmWWN1UxloiikZ75bIwDgiufuPDeo6Xro1DT9La+tbPUI50tkmQSzqLMQb13sF3Kf7xXjcQc4yr66/1t/XzBdbnZWur6bfR20llqFrcJdqzW7QzK4mC9ShB+YDvisvxJ4stNC0V7u3msLq488W0VvNqMVsJZdwDIHc4DKMnb14xWKmg6pHpcurw6b5WpLrB1O304SIGRGAjkjLBtm903sfm2726nG6pNc0zUrL4dto+n6Rcarf3kbm4a1eGNRM7b3dvNkXgsW6ZNPz9P0/4YTul/Xn/AMBnU6nrOmaJaLda3qNpp1uzBBLdzrEhYjO3cxAzwePaqWueKtP0K3t5pxNci4eJUFqgfCySLGrk5AC5cc555wDisHxNZa9qN9o2tadbaxaeTDNFNZ2bWJuomcphv3++IjCEHa4PzDGeQK2s6VqNn8O9N0LRdB1a/ZZLeYiSazV4BHcJKUf94iZwCAIwVGAOBS/zKVro9BoqG0me4tIppraW1d1DNBMVLxn0JRmXP0JHvU1MQUUUUAYt3rGoJ4qt9IsLC2mia3FxcTzXbRtGm/b8iCNt574LL9atXGv6PaX8VjdatYw3c0vkx28lyiyO+FO0KTkthlOOuGHqKoD/AJKQf+wSP/Rxrkruzu9T8ReMtL03RJJJdQvLaOTVd0KxwKtvCRuy3mEryygIRlhyMkhU9Yq/n/6VYdtZeVvyX+Z2aeJ7GTxUugxR3D3DRSyed5eIcxlAyhifmI8xfuggHIJBBFbNcdqL6u3xK028h8N6jNY2ltPavdrNahCZWhIcKZg+0bGz8ufQGtSDxL9p8cT6BbWyTw21mJ57uKcN5EpYAQyIB8rFTuGTyAeO9Napd9f1/QHZG7WfFr2j3GpjToNVsZb4oXFqlyhlKgkE7Ac4BBGcdQa0K808L2d3qJsYbXQ5LO2stdvb6bUpGhCTHzZkwiqzOWO4AllXhTyeATqSzr7bxRHLr8el3OmahYtcCQ2lxcogjufLxu27XLKcHIDquRnGaXTtavrjxTqOj6hYW9uLaCO4gmguml82N3kUblMa7G/d5wCw561i6U2t6h43e/8AEPhzULeOBpINPcT2zW9vEesrYmLtI+APufKPlHVmOla/8lQ1P/sD2n/o64px1SKtpLyt+aR0dFFFIQUUUUAV9Qu/sGmXV3s8z7PC8uzON20E4z26VR0jVbqfw+up69BZ6aDH558q8MsaRbQ25nZExgZzxgY61L4g/wCRZ1P/AK85f/QDWLqVjd3/AMP9NSwt/tckQs52tg6qZ0jZHZAWIXJCkDcQM4yR1qYu8mvT8b/5A+nz/CxY07xvpOqLqU1hcQ3tpZTpAk9jKLgXDsittUJnkFsYyemTgVqaFrEHiDQbLVrSOWKC8hWZEmADqCM4OCRn6E1h6Y+sWcmu6tdeH7oveTxPb2MNxA0zIIkQ7iXWMEEHI3kccE1W8KXlz4X+F9uPEdidHl0m1WJ/t91AscjAAAiRHcBSxC5ODntQno2ykr7HaVV1HU7DSLF7zVr23sbWMgPPcyrGi5OBlmIAyTiodA1KfWPDthqN3YyafPdW6TSWkpJaEsMlTkDkfQfSs7xLb3q6lo+pWemS6qljNI0lrC8ayAtGVEi+YyrkZI+8Dhjj0NSvF2JTTVyPT/GI1Tw7Hqul6Xc6ms11PBDHp0kcgdY5XTzPMdkQKQmfvd8DNPvPE80vgoeIvD1lDexiFp2hvLhrYqiglhkRv84K424xnPNYKx+LtH8DpaafosjaleajdPcNaXEEhs4pJ5JPMTzWRXbDDbnGCckcbTrTW8dn8K762h0260yOHTp0W2u5EeVcI3LMjuCT1zuJOeeamq+WMnHoWknUS6X/AFOltpvtFpDPt2+YivtznGRnFS1V0z/kE2n/AFwT/wBBFWq0krSaRlFtxTYUUUVJQUUUUAFFFFABRRRQAUUUUAFFFFABRRRQAUUUUAFFFFABRRRQAUUUUAFFFFABRRRQAUUUUAFFFFABRRRQAUUUUAFFFFABRXJeNrWe81Hw+tnF5txb3cl3Eu4LueOFiq88ck7c+9c9Ytf6Zr15o8N//Zs+sayr3F1Equ8bmyWRlTerJuZkIGQQFBwM4wLe39dP+D/TBa3PTqgvb60060e61C6htLdMBpp5AiLk4GSeBkkD8a42z13VbRY5LvUvttlY6y+m3Ny8KKbiNwFRztAAZJWWM7cA4bgdBF4gF/qfwxuNSvL113M17HbvaQOjQl90UUiSRt0XaSeG3DrQtden/DP8mJu2/wDVr/5HfUVx3jPWNUg1rS9H0ddTVrqKad30sWnnHy9g2j7UwTHz5OAW4HQZqhrqQaj4T0yLxhocN/4luongs9PkCsfNPBlAUuseAFZpATsBwCSQCtbXRXWx6BRVTSraey0eztby4N1cQQJHLOc5lYKAW59SM1bqno7Eptq7CiiikMw9X/4RT+39O/t7+xv7X3f8S/7b5X2jOf8Allu+bOf7vetiO2ghlmlhhjjknYPK6oAZGACgse5wAOewFYg/5KQf+wSP/RxrndZ1jXLe88SX0WtNBb6PeQR2tilvFi4LxQsY3ZgWO5nwoUqwLHluAFDWP3/nYfV+VvyT/U9BorhvEmmQ2HjDS9aj0XTbYPfQpNqduQL6dnBjEZUIMpkqWPmH5VPy8ZHYi/szqJ08XcBvRF5xtvMHmCPON+3rtzxnpmmtVcXUsVHBbw2sXl20McMe5m2xqFGWJJOB3JJJ9zUlef6frOtrc6Vf3mtNcJfatdWP9nLbxKhiRpsMMDeXURjJDYI/hzzQI9ArD0T/AIRX+1tT/wCEb/sf+0PM/wCJj9g8rzd+T/rdnOc7vvc5zXC6Jrcd98UdL1O/tdXhvr+1u4hBcaTcxC2i3w+XHlowOPmZ2yVDN1xtrs7X/kqGp/8AYHtP/R1xVJbPvcu3uvy/zsdHRRRUkhRRRQBHceT9ll+1+X5Gw+b5mNu3HOc8YxWX4Y/4Rr+yT/whn9lf2f5hz/ZPl+VvwM/6vjd09+lT+IP+RZ1P/rzl/wDQDWPf6jcab4B017OUW81wtnarOVDeT5rJHvAPBI3ZAPGcZz0pRd5Nen43/wAgfT5/hb/M6WO4hllliiljeSEgSIrAlCRkAjtwQakrg9G0yK8l8X6ddSw+KWW6iVk1UQ7JJBAhCSeXFtXBx/ASPQ1f8DtFpulataTwwaeun30glggkBtLUFFk2xNhfkCsM5VcNv4AxRF3+64PodbRUVtdW97axXVnPHcW8yh45YnDI6nkEEcEH1rF8R3N42oaVpVjqD6Yb+STfdxIjSKETdtQSKy5PqVbgNgZ5Dem4G3BcwXUZktZo5kDshaNgwDKSrDI7gggjsQayvFH/AAjP9lJ/wmn9k/2f5o2/2t5XleZg4x5nG7GffrXAabqijwRZaYJdSvrDUNR1BrvUrKwkujJCt1Jlc28ZAaXIGQANu8jBxWx4cu4rv4BRmBJkWLRGiIlgeLkQ9gwGR6EcHsaVT3Yyl2/r+v6voo+/y+djvovL8lPJ2+XtGzZ0x2x7U6qumf8AIJtP+uCf+girVXJWk0Yxd4phRRRUlBRRRQAUUUUAFFFFABRRRQAUUUUAFFFFABRRRQAUUUUAFFFFABRRRQAUUUUAFFFFABRRRQAUUUUAFFFFABRRRQAUUUUARvbwyTRzSRI0sWfLdlBZM9cHtmq15o2majb3EGoabaXUN0VM8c8CusxXG0sCMNjAxnpgVdooApjSNNGkf2UNPtRp3l+V9jEC+Ts/u7Mbce2Ki1Tw/o2uQxRa1pFhqMcJzEl3bJKI+3AYHH4Vo0UbgZc/hnQbrSIdKudE06bToCGis5LSNoYzzyqEbR1PQdzUV34P8Nahb20F/wCHdJuobRPLto5rGN1hX+6gK4UcDgVs0UAQ2lpb2FpFa2NvFbW8KhI4YUCIijoAo4A9qmoooAKKKKAMW70fUH8VW+r2F/bQxLbi3uIJrRpGkTfu+RxIuw9slW+lQ2ng7SofFV/4gubOzutQuZ0lhuJLVTLbBYVj2rIcnB2k8Y+8RXQUULRWX9Xd/wAw7+ZnR+HdFh1p9Yi0ewTU3zvvVtUEzZGDl8bjxx1qOHw/bR+J5telmmuLx4Ps0XmbAtvFkMUTaoJBYAksWOehA4rVooAKwPDng7SfDsk9zb2VmdRuJZnmv47VI5pFklMm1mHJAyByedorfooAja2ge5juHhjaeJWRJSgLIrY3AHqAdoz64HpWRp2i31v4p1HWNQv7e4FzBHbwQwWrReVGjyMNzGRt7fvMZAUcdK26KB3drBRRRQIKKKKAK+oWv2/TLq03+X9oheLfjO3cCM479aoaZo06+HBpPiOSx1VPL8lglkY45IwAArRu8menPOD6Vr0UrLXz/r9Q7eRmN4a0J9KbTH0XTmsGChrQ2iGI7fu5TGOMDHHGKWXQ7ZdAbSNJP9j22zYn2CGJfKBOSFVkZBnn+E9T35rSopgtHdFTStLtNE0i00zTYvJtLSJYYY9xO1VGAMnk0anpOna1afZdY0+11C33BvJuoVlTcOh2sCM1booeruwWmxFBbQWsXlWsMcMZZm2RoFGWJLHA7kkk+pNZeuaLcXnhmTR9Bns9LSSIwfvLMyokRUqVVFdMHkYOcDHStmik0pKzGm07oitofs9pDBu3eWipuxjOBjNS0UVTbbuyUrKyCiiikMKKKKACiiigAooooAKKKKACiiigAooooAKKKKACiiigAooooAKKKKACiiigAooooAKKKKACiiigAooooAKKKKACiiigAoqK5uYrSAzXDbYwQCQpPJIA4HuRSW11Ddxs9u25UkaMnaR8ykqRz7g0rq9gJqKoalrVlpUkEd4ZzJcbvKjgtpJmbaMnhFJ4zU9jfW2pWUd3YyrNBIMqw49iCDyCDwQeQeDQpJuyFzK9r6liiobi8gtGhW4fYZ5BFHwTuYgnHHsDU1O9xhRVDUNas9MnihuvtDSzKzJHb2ss7EDGTiNTgcjr61cikWaFJUDBXUMA6FWAPqDgg+x5pJp7C5le3UfRRRTGFFFZ0+vada6itlPM6Ss6x7vIcxh2+6pkxsDHjAJzyPUUrpCbSV2aNFFFMYUUUUAFFFFABRRRQAUUUUAFFFFABRRRQAUUUUAFFFFABRRRQAUUUUAFFFFABRRRQAUUUUAFFFFABRRRQAUUUUAFFFFABRRRQAUUUUAFFFFABRRRQAUUUUAFFFFABRRRQAUUUUAFFFFABRRRQBzfjXS5tV020ggt7S4/0yHctzZG4CjeMsAGGABnPqMjjOaPAujNo/hxVnt7aCeeR5XWC08gjLEgMCSSRnjpgYGOMnpKKhQSk5dX/wAD/IydKLqe062Od1+U2niTRb17e6lghFwJGt7aSYoWUAZCKSM1g3NtdixzeaQrW+o3893sutPkvRbqVXYGgjP3mwTknC5I6mvQKKh0rttvf/gf5BKnzdf6tb8jz9NEWfwhoU+taL9qlsrrbNHJZeZKkG91ChPmYqAVO0Z4HfFW/EMcM9vp1rZ6JCdNMMjRifRpbhY3yAEEA2eWTkne2Mc9Mmu1opOimmu/+Vv68/uJ9ikrLsl9xxmnabqd0PD3m3N/YSxaW6zTJGhYNmL5G8xXAJwffjr1q3feHoNV8WRDVYJLy1j03yy0y/u5H39WAAUtjkDHB5AHFdRRWjgpO78/xv8A5lKlFK3p+Fv8jzzxXYXAVtPg043RtLBEs7qXTpbuaRwG+5KrKsLDCnceScHnAFM1nQJb/Vp7ifTZp2kkYFjExBX7EcD0x5gH1YDuBXo1FZyoqSld7k+xjzX9PwPNrnSr24vf+JiGgmaG3+yXbaPPdyw4Rc7JEfETBwxIKjOcnI6buuagbzXItLubXUIrC2eOeaeKwmlFw4IZUVkQgKCAWYn2HcjrKKvk1uu9xKhyppPf+u4UUUVodAUUUUAFFFFABRRRQAUUUUAFFFFABRRRQAUUUUAFFFFABRRRQAUUUUAFFFFABRRRQAUUUUAFFFFABRRRQAUUUUAFFFFABRRRQAUUUUAFFFFABRRRQAUUUUAFFFFABRRRQAUUUUAFFFFABRRRQByvjO4vobzQ/wCzpLoNHdvcSRW5b9+kcTMYyB97PQD1x7ViadrGu22q32mRXC/b9S1UGF9QLTR2cZtEmZRGHUkAhlCgryS2fXvpbKCe7t7qVC01tu8ptxG3cMHjoePWqF/4X0jUjO13bP5k0yTtNFPJFIsirsDI6MGQ7eMqRkEg9TS1T/ry/wAgXUxbLxRqiTwQ6mlk4g1RtMvp7dWVSzIGhkQFjtBLIpUlsM3BOMmh4onvfEHwyur64TT5LJ5TOIJYZWFxbLJmLDJKhViFVt3I5xtrqR4Z0kaA+i/Zm+xOSzqZnMjOW37zJu3l93zb927POc0mseGNM13To7DUEuhaxrtEVtezW6kYxhvKddw46HNPz66fp+one2n9b2/ryuZXi/xPdaPqFhpumnyp7qOSZpjpNzqAREKjHlQYbJLj5iwAwepIra8Pajcat4fs76+s5LK4mTMkEkboVYEg/K4DAHGRuAOCMioLrwnpV7Z2lvcC8Y2efIuF1C4W4QH7w88OJCDxkFiDgZ6CtO0tks7SK2haVkiUKpmlaVyB6u5LMfckmjoPsTUUUUAFeXeJJ7ifxh4htrOfxA2rRW9t/ZKWEl19njmKsQZAv7gLuCk+bwQD1r1GqsGnWttqF1fQxbbm7CCd9xO/YCF4zgYBPSk1qgOYu9Y8XTavqlno9rpjjTIoJMShi907IS0K/OoQ8cSEkDIBU8kR6p4n1uEazqdj/ZyaXok4intZ4nae4CqjyFZA4WM4fCgo2SvJG7jrYbG3t7y5uoY9s91t85txO7aMDjoOPSs278I6Le6sdRuLWQzs6SSIlzKkMzpja0kSsI5GGFwWUkbV9Bhq99f61/y6CtpY5nXtQ1fV3iuElsoNIttetbYW5t3e4lZLhFL+ZvCoN2fl2NwM5BOF2P8AhJrz7Cs3lwbjrn9nY2nHl+dsz1+9jv0z2q3L4M0KfVzqU1m73BnW5ANzL5SzLjEqxbtiv8oBYKCRkEkE5JPBmhS6sNSks3a4FwLpAbmUxxzD/lose7YrHuQATk5zk0R05U/n/wCS/wCT+8U1e7W9tP8Ayb/NfcQaPqeta5qVxdwS2NrpFveTWv2eS1eS4m8pijP5nmKqZcHC7G4AOcnC42jeN9U1XxFbolq8unXVzJCI00a8Q26Lu2ytdMPJcEoMqAuN/DNt+bp18M6ZHrTarAt1Bcu/mOsN7NHDI+MFnhVxGzY7lSeB6Cm2nhXS7HVm1GyW7t5WkaQwxX8625Zs7m8gP5WSSSfl5J3deaF0v/X9f8MVLW9jH0DWfFerTw3strpq6Yb+5tJIYw3nCKN5FWfeWwOUUGPaTzu3D7ok8N+IdRv9eubLW5obSceYYtObTZoZAqvjcs7OUnAG3JjUY3DOOldJY2Ftptr9nso/Ki8x5Nu4n5nYuxyfVmJ/Gs/TfC2maXqH26AXk1zsKLJe6hPdGNSQWCea7bM4GduM4GelHUOhsUUUUAFFFFABRRRQBy/xClmi8Lx/Zxeu0l/aRtHYXJgmkVp0DIsgdNpIJH3h161zmkXN9cabaWDXuoW9jqeuzWojuLt3vLSGOF2aBptxYOZImO4O2Ff5W+6R6He2FtqMUcd5H5iRzJMo3EYdGDKePQgGqF14X0e8F759oc30qTzMkzofNQBVkUqQUcBQNy4PA54pxdk/67f5P+mxPf5f5/5r+rHHazay2vhfxnp8eo6oYdIt2u7G4GpziaFzbs2wyhg7gMN2HZh84HQADt9As47HQbSGKS5lBjDl7q5knckjJy8jMx5PTPHaqdx4N0W50GTR5Yrr7HMxecLfzrJOSNp8yUOHkyOCGY5AA7CtLTNMt9I0+OyszcGGPO37RcyTuPbfIzMR7Z4pLrfy/r+uxT1SXr+P9fiW6KKKBBRRRQAUUUUAFFFFABRRRQAUUUUAFFFFABRRRQAUUUUAFFFFABRRRQAUUUUAFFFFABRRRQAUUUUAFFFFABRRRQAUUUUAFFFFABRRRQBja/4g/sO40qP7L56394Ld38zb5KlSS/Q5xgcccEnPFULPx1ZPHqcuowyWqWd+LOARK9xJd7o1kRkjRSxJVidoDEBST3xoa1oa6zqFg1wkb2sAmEyM7KzB4ymBj/ePcY7ViXXhPUbXWjquiCxL292k9tazu0aSJ9mEDKzhGKEAZBAb7oHfIV9f68v6+YLrc3bHxPpGo/ZPsl0S148kUSPC8bb4870ZWAKMMH5WweDxxWb4l8WrY+G7i90WaNp47k2wluLO5lgjdH2yb/KQlQAGG77u7HNQHwxqjaPPcl7Ma7JqQ1ONQ7GCNwFTyg+3dgxKUL7c/MTt7U7W9A1f/hBV0DQorK6lkhMc897dPB8x5aT5In3FmySPl60/P0/T/gr8RO9tP63/AOA/wNvV9esNDSE6g05ediscVray3Ej4GSRHGrNgdzjAyM9RWbrfjCPTtHs9S0y0bU7W6eDE6SBIlSWVIw27ByfnyFA7HOOtUPEfhvWdbm0vUxFCl7bQywz2MGt3VpGQ5U7luIUDnGwcMmDu7YGY9a8N60/gux0PQNN02ILJFPOLrVp2ETJOkxCuYWaTcQwLNtPOcHpS/wAyla67Hb0VDaNcPaRNfRRQ3BUGSOGUyIrdwGKqSPfaPpU1MQUUUUAFYV14z0Gz1aXTZ7x/tUEqRTqltK6wM4Up5jqpWMNuGGYgE5AOQcbtedy6dq+t+IPF2kWkVlHpt1fQLc3clw/nRj7NAWCRBMMSBgMXGCc4OMFrV2/rdDto2dMPEkp8aQ6EdNljhmt5pUu5XC7zEYwQqYyV/eY3EjlTgEEGt6uTvtP8STeP7DVbex0ptPs4JbbdJqMiyukrREvsEBAK+Wfl3c56iuspfZX9df8AIHuFFFFAgooooAKKKKACiiigAooooAgu7hra3MkcElw+QFjjHJJ9zwB7mqVlqt1qHh621C0sVae4UEQNPhVyecvjOB7KT7Veu2uVtmNjFFNN2SaUxqfX5grH9KwbOw8Q2PhFdOtVsIr6JRHHL9odk2925j4b0GCP5Uu5nKVpfJmpo+ptqdvOZoBBPbTvbzRq+9Qy4+62BkEEHoK0KzdCs5rDTVtp7WC32E48m4abfnkszFFO4nJPFaVUx023HUKKKKRYUUUUAFFFFABRRRQAUUUUAFFFFABRRRQAUUUUAFFFFABRRRQAUUUUAFFFFABRRRQAUUUUAFFFFABRRRQAUUUUAFFFFABRRRQAUUUUAQ3F5bWjwpdXMMLXEnlQrI4UyPgnauepwCcD0NFve2t2062lzDO1vIYphHIGMTgAlWx0OCDg88iua8Y2Uuo6poVvbNEtwk8txCZCQBIkTFDx23EZ9q5WZU0TU7601PUZbHS59WjfVb2CZrYKTZKctMpBjVpVGWBXJIXPOCrq9n/W3/B/AFrc9VqjrOs2Hh/SZdS1ef7PaQlQ8mxnxuYKOFBPUgdK4iy1Kax0ePW4dUu7jQ9P1Z0juJ7hpRPYuAhdnJy6pIxYSMT8iZyQclvie9g0z4b/AG7Xtcn0zUrh3vbVZNUe2dXdtwhAVxvCKwXZyOM4p+fp+n9eom7L+ul/69Gj0frUF3fWlhCst9cw20bOsavNIEBZjhVye5JAA7muB8deIEmk0WW01CyOg3Uc0hvjr0um28ko2hF+0wqx6GQhcgNtPXbiqHirUNMtfhxo9x4l1rSZ9VaS1Nvci+VxNGLqJmeNiF3/ACBSzhRnGTgUv8ykrtI9UoqG0u7e/tIrqxuIrm3mUPHNC4dHU9CGHBHvU1MQUUUUAFFFeWa5qsY8TeI4F8Q3Q1u3vLcaPpMWoMpYmGEnECnMiMSd24MqgMfl+YkWrsO2jfY9F/tzSf7Z/sj+07P+09u/7F9oTztuM52Z3YxznFXq881fxH4e1Px5Z+H01PS7F9Mv47u6aa4jjlluduEhiUkFmO75mwRj5Rkk7fQ6FrG/9f1/w/UT0dv6/r/hugUUUUAFFFFABRRRQAUUUUAFFFFACMwRSzkKqjJJOABVZ9TsItPF9LfWyWbAEXDTKIyD0+bOKbqraelgz6vJDHaqwLG4kCpnPGcnB5xwawfDer2SeA7aSLVbGAwxiNpppFZInJ4DDcPyyKXczlNKXLfozpba6gvLdLiznjuIX+7JE4ZW7cEcGpawvCknm2N44eOcPeSMLqEYjuM4JZBzgAnb1P3Tya3apjhLmjcKKKKRYUUUUAFFFFABRRRQAUUUUAFFFFABRRRQAUUUUAFFFFABRRRQAUUUUAFFFFABRRRQAUUUUAFFFFABRRRQAUUUUAFFFFABRRRQAUUUUAFFcx4x1i80ifR2srjyomume7XYG8yBI2dxyDjgZ4wePrWVpvizWVub62a3GoXt1qYj02CZhbxxQtbJNh3VGICgtztYljjp0Fr/AF/X9JgtTvKK5iy8XTy3Frb6hpgtZmv5NPutlx5iQTCPzEw20bkdcYJCkEgEZrP8UavqGo+Aru+s7eW2gW4YNNb6kbafyI5cCSNhE/L7funAKt97mj+v6+8V0tX/AF/Vjt6K5jxd4zt/C81latLpcdzdh3U6rqS2UIRMZO8qxLZZQFCnucjFU9Q11tZ8Dw+JtO16bRbQW7S4gihnMkudqpllcOu4FQEGWJGG9VfS5VtUup2dFVNKmu7jR7ObUoRBeSQI08Q6JIVBZfwORVuqas7Ep3VwooopDCqVlpUFhf6jdwtI0moTLNKGIwrLGsY28dMIOuec1drkdR8aXtlqGrCPRUk07Rp40vLuS8CMUeNHLRoEO4qH5DFRgDBJJCtb6D1s2ddRXIatqN3pvjSwjh1fUmjurhEltbiyRbGONlI+Wfygd5YABfNYktjbjp19Jaq4utgooooAKKKKACiiigAooooAKKKKACioLwXLWxWyeOOUkDfICQo7nHc+1YthrVyvg2yvZs3d/cIqRrgKZZScDoAAO5x0AJpEuSTszoaKyfDc95Ppb/2lcfabiK4liaUIF3bXI6D6VrUwi+ZXCiiigoKKKKACiiigAooooAKKKKACiiigAooooAKKKKACiiigAooooAKKKKACiiigAooooAKKKKACiiigAooooAKKKKACiiigAooooAKKKKAKtxp8dzqFpeO7h7QuUVSNrblwc8Z6ehFZWoeELS+vJr2O8vLO+e4W5iurdk3wOsflfKGVlIKZBDBhznqBjU1DVNP0m38/Vb62soef3lzMsa8DPViB0FQv4i0WPT7i/k1iwSztpDFPctdII4nBAKs2cKckDB55pWQIo/8ACIWZ8PzaY11dtJPOLqS/LJ9oacMGEudu3cCq4G3aAAMY4pdY8KRar4eh0W31K90qxjiEJSyWH50AACnzI3wBj+HFaVrq+m30dtJZaha3CXas1u0MyuJgvUoQfmA74rL8SeLLTQtFe7t5rC6uPPFtFbzajFbCWXcAyB3OAyjJ29eMU/7v9dg3Q678MNdpZSjXNTg1GzR411KIQCaRHwWV1MRiIJVT9wY2jGOc19Y8GHWpNJmn8Q6tFPpeWjkjW2PmyEY810eFk3gZwQoxk4xmtnU9Z0zRLRbrW9RtNOt2YIJbudYkLEZ27mIGeDx7VU1jxB/ZVvHPb6Xf6rG0bTM1gsZWOMAEsWd1B68BSWPYGi9tf6/r/hw8v6/r/hjStIXt7SKGa5lunRQrTzBQ8h9SEVVz9AB7VNUNndwX9jBeWj+ZBcRrLE4BG5WGQefY1NTd09RJpq6CiiikMK41PB9xqHibXbjU76+i0y7vIZVsImiEN0qQRLlztMgG5CCodQQvIIJz2VZ9xr+j2l/FY3WrWMN3NL5MdvJcosjvhTtCk5LYZTjrhh6ihbjvoypdeGzf6qtzf6vf3NpHMk8emuIVgR0IKHKxiQ4YBsFyM1t1i6h4psNO8SadokizS3d+xA8pQVh+V2UyEkYDeW4GAc7T6VtUdBPfUKKKKACiiigAooooAKKKKACiiigCG7gkubZoorqW1Y4xLCELD/vtWH6VmWfhixg0uPT77/iaW0JzEt/FE/l8dsIPU8nJrSu7uKytzNNuIyAFRSzMT0AA6mqI1+F9Ag1WK2uJEuCgjhAQSEswUDltvU+uKRnJRveXb8CXSdD0/RI5k022jhE0hkfZGq5ySQOAOBnAHYVoVXs7iW6gLz2c9m27HlzshY+/yMwx+NWKZUFFR91WQUUUUFBRRRQAUUUUAFFFFABRRRQAUUUUAFFFFABRRRQAUUUUAFFFFABRRRQAUUUUAFFFFABRRRQAUUUUAFFFFABRRRQAUUUUAFFFFABRRRQBy/jTRLrWf7N+yWq3H2eS4dtxUbC1rKikZPXc4HHr6Vz1n4X1fR7qC+h0f7RDY30EyWEMsStIgsEgzGCwQFHzwxXgHB6Z9JooWjbXW34ah/X5f5HCpoOqR6XLq8Om+VqS6wdTt9OEiBkRgI5IywbZvdN7H5tu9upxuqTXNM1Ky+HbaPp+kXGq395G5uGtXhjUTO293bzZF4LFumTXbUUdLf1poJpPfz/H/h2cP4mste1G+0bWtOttYtPJhmims7NrE3UTOUw37/fERhCDtcH5hjPIFbULLXNN8J6P4f0LRtXmsJY2GoTLPaLdwR5z5KjzEjDNkruQ4RR8ozgj0Gii2lh7O5V0xVTSbVI7J7BEiVVtJNm6EAYCHYzLx04JHvVqiim3d3ElZWCiiikMK8zu7O71PxF4y0vTdEkkl1C8to5NV3QrHAq28JG7LeYSvLKAhGWHIySPTKjjtoIZZpYYY45J2DyuqAGRgAoLHucADnsBQtH/AF5Dvo13OCvvCHiqPxDZ3tpqumXKNrLXszyaYwkiTyZEUM32gBwqsqAKoOSG/vZ9Booo6WE9Xf8Ardv9QooooAKKKKACiiigAooooAKKKKAILuaS3tmkhtZbpxwIoSgY/wDfbKP1rntNtJx4MhsNT0a+MlvsUwxXEaOxByGV1lGMHH8QPFdRRSIlDmd7mVoFveW1nML3zlR5i1vDcT+dJFHgfKz5OTncfvNjIGeK1aKKY4xUVZBRRRQUFFFFABRRRQAUUUUAFFFFABRRRQAUUUUAFFFFABRRRQAUUUUAFFFFABRRRQAUUUUAFFFFABRRRQAUUUUAFFFFABRRRQAUUUUAFFFFABRRRQAUUUUAFFFFABRRRQAUUUUAFFFFABRRRQAUUUUAFFFFABRRRQAUUUUAFFFFABRRRQAUUUUAFFFFABRRRQAUUUUAFFFFABRRRQAUUUUAFFFFABRRRQAUUUUAFFFFABRRRQAUUUUAFFFFABRRRQAUUUUAFFFFABRRRQAUUUUAFFFFABRRRQBl+INUudJ01Z7Oyku5GljjCps+XcwXJ3Ovrjg9SO2aZ4b1i41vT5Lm4spbQCeRI9+z51V2UfdduRjB6c9OKdr3h+08QW9vFewwSLBcJMPOhEmQrAlRnpuAwfb1p2gaHbeHtIjsbSOJQpLO0UQj8xj/ABEDv0H4VmlLnbe3/Df8Eyan7T+6Qa1f6jFq+mafpctrC14JS8lxA0oUIoPAV19fWmWGvXUunSedps11fW1w1tPFZbQpZcHeDIygKQQcE55xzjNTavpN3e6jYX2n3sNrNZ+YAJ7YzK4cAHgOpHT1rLuvBIntbZPtVvcSpNJPc/b7Tz4riSQDLmMMoBGML1wOOetQ/aJu39bf8EUue94r+rfnfyJr3xXMttpVzpel3N3FfTCNv9WpThsphpFw4K+68HnpWpcapPBZxTLo9/NLICWt4zFvjA/vEyBPTgMSfwOM638LPZ+G7HTbS9VJrC48+CdrcbM7mODGCOMMRgEe2KbrHhefW5LOW9ubGaSGJ45EuLDzYSWIO9I2f5XGMAkt16UP2iUrb3027L9RfvLX62Xbfr/WxFqnikJLpjWmqabptpfWzzi41KMkHGzCgeYmDhj3PSrlz4misp7ezFvcandy2n2pTYRrskQcFgWfAHcZbuACTT9L8PDTDpmLnzBYWbWv+r278lDu68fc6e9Xf7O/4n/9p+b/AMu32fy9v+1uznP6Yq7Svo97/rb9BpT1b30/S/l3Kdz4kig06G/isL26s3gFw88KJiKMjOWDMCeMkhQxGOnIzW1DxpZ6ffS2psr64aM7d8MalWPl+ZgEsP4Mn0GOcZGa/iLwX/b9/PO9xa7Z7cQ4ubIXDwY3fNExYBCc88Hp2qa58Jfabh5ftu3c5fHlZxm2MGOvvu/T3qJOq1LlXoL97zW6af8AB/rUsT+K7WHLraXk1rGkb3F1Gi+XbhwCN2WDHAIJ2hsA81Hq2sXOna1aQRX2ny/aZY0XTzGRcMrHDOG39By33MYBGe9Um8CwC9WdF0u43JEsv9oaYLhsooXKNvUqCAODuweR3rW1TSb3VZDBNe26aazIzQranzjtIbHmb8DkD+DOPfmq96/z/D+vUn964u69DXooorU6QooooAKKKKACiiigAooooAKKKKACiiigAooooAKKKKACiiigAooooAKKKKACiiigAooooAKKKKACiiigAooooAKKKKACiiigAooooAKKKKACiiigAooooAKKKKACiiigAooooAKKKKACiiigDN1rX9P8P28E2pvOBcTCCFLe1luHkcqW2hI1ZjwrHp2qXStWstasvtWnStJGHKMHjaN42HVXRgGVh6MAawfHNlqd5N4c/sXalxDq6yGaS2aeOFfImBZ1VlOOQM7hyR9Kz9S8HN9msYbuWe+nvtcS91Ke2RoVY+Uy4CqSUj2oiYLHI6kkklJ9+9vy/wA2OSta3a/5/wCSO7orgNa8LaXov9nwHSJrzwx9rmnudNt7T7RFC7IAmLdFJaMMGO0K2GcNjjK5cWmxxQ6WmueH7y68MtJetbaY1g9yISzp9mDwBSUXZ5u0MNse4A7SAA1r/X4evbuL+vzPR9K1KHWNLhvrZXWKYHaJAAwwSOcE+lXK830iOfw/D4Su7rR7+GC2sry1e3t7NpXgd5IyiFIw20YjYbvuDA55GYI7Af2T4cbxZol7daOltcCfT209rvyrlnBjaWBAxbC+YAcFQT15U0l0/r+v+Cg6Hp9FeY+M9LW8u9JKaZAfD66fstoLjw3cagkEhIwPs0TI0TbMAMUO3DLlCcNfh8Hwavq2mxeI0n1m1h0JIXlu4HSO4k3j5pI3z84AyA2SpOevNH/B/C/+X4g9Pw/T/M7+iq2nWY07TLayWaWdbeJYhLO253CgDLEAZJxycVZqna+gBWNc+LdEtINSmuL3YmlyrFdnynPlswBAGB833hyue47GtmvONZ8L3V/oPie8AuPMlS/VbRbc7rk7WWEjucZfGAd28enMp+9Z9v8AIpRvZedvzPR+tFeWPpZm1F/tOh3TeK21ZZrbUzZyYjtfNDDF0F2oghBUxlgScgqd2TuQaLKviJ9De0f+yk1E6xHIY28vB+fy93Td9oLSYzwB0ximtbX/AK2/4P3WI6f15/8AA+86ldU3eIH0v7DeDZbC4+2GH/R2yxXYHz98YzjHQir1cPZT6XbfFS6ksdHvbd7q18i4uk0W4jjmmWQnLTeWFbjo5bHoawfDejXieOIZ9SC2eqJeTyXE0fh26El0hD4R7/zGieMqVIUjA2oAqsoAUXzJfP8AP+n6Dlo35f5f5nq1Fed+HbSOy+Ily9hpv237VLO0+o3WhTWt1bgndg3cgCzpuwiqoBC7eSFzXolPomHVoKKKKACiiigAooooAKhvLuCwspru7fy4IIzJI+CdqgZJwOamrmvHEWpXmk2mn6RZrdyXd5GsyyyNHEIkJkcO4R9qsE2fdOd+KAN2wv7fU9PhvbJy8Ey7kLIyHHurAEH1BAI71YrzqCz1q3truW/0vybzR9WGpWqWkktyjwTZ85Efy1Lth5vkC5B2DHSoPEWiX58O6dLPZxzQ3l/JfapDPpcmoKC4Plh7aN1aQJ8i8bsFVYrxuBf+vu/4P3B/X5/8D7z0yivNbbwut/o/hSyuftN7YRalcSyILCeyjjiMU22JoZCXWIEhAjHaVwv3SBUvinRYNE0jTtEsNIhutIeeeVvtWkS6pDakncsa20ODglm2seEC47inLQFqz0WivD9Rgvjo/h2w1nQY9UMWm3aPp9/Z3MiwMZQscgjhinZSqggbuMH5XPNaGo6JbtpHhyC0itdR8O2+lCCGSbw7PqKefkBmNvC6NFIQPvFTtO8ZUnDLz/rr/l87iTvb0/y/z/A9grD1fxho2hX5s9SmuUlSEXEjRWM8scMZLAPI6IVRcq3LEdCelXNAgmtfDmnQXN3Leyx20avczRNE8pCj5mRvmUnuDyO9cZ4x8P6tq3iDWpdPkvFgOjW8b2saIItRAlmMluXK7lJQ7coykbwT2pvR2LglJXfl+aOo1XxfomjTiK/u3B8sSyNDbSzJBGTgPK6KViQ4OGcqDtY54OEvvF+k6drMGl3P283VwMwiHTLmVJBxyJEjKEDIyc8d8Vzovm02TW1/sbVbldbjim0+NLCVgwNukXkyHGISGXnzdgAfrw2Eln/sbxJ4Ssbi31S6bTbN7e5uYdMuZo9zRxqpMixlTkqcnPHfFD3/AK87/cR/X5Hf0UUUhhRRRQAUUUUAFFFFABRRRQAUUUUAFFFFABRRRQAUUUUAFFFFABRRRQAUUUUAFFFFABRRRQAUUUUAFFFFABRWJ4m1PUdOi0+PSEtWub28W2DXW4ogKOd2F5ONuccZ6ZXO4Y0t9q+q+Ftdtry/W1vNKlmhnudPiaHzwIRIuzczGPh1BIYng4IJBEuSUZS7f8D/ADQ7apd/+D/kztKKzPDUsk/hTSZp5GklksoWd3bLMSgJJJ6mtOtJR5ZNEQlzRUu4UUUVJQUUVy3ifS7DV/Ffh231Wxtr6AG5cRXMKyKGCDBwwIyPWk3YDqaK4LX/ABZ4htPEk1hpa6Ylutx9mRriGR23fZGn3Ha6jA2EY/i3DldvzSX17f3WqeC9V+3zww6jcIGsoW2xANaSud2OX+YDrwNowAckuPvbf1e/+QPTR9m/uO5ooooAKK81m8deJE1CfbFpQtI5rkAGKQyGOC7WAjO8Dcwcc4wpXOG3YXXvYWi+IWnxaPqOoT3zSNcanE92728VoUYKpiz5aEvs24UMdrEkjcaFrbz/AK/r0B6OS7HZ0UUhOAaTdlcBaK820Dxz4k1G60w38WlrbXa2ckiwRSbwLhZMKCXwCDFuzg8NtxxuOrpKS6b8QDaqmsWVncW8wVNSv2u0vJFdCHizLJ5QVS3B2Ft4+U7flq2tn5/elcHp/XyO0orlNA02x0z4geIY9NsrezSa1tJpFt4ljDyM0+5yAOWPc9TXV0CTuFFFFIYUVQ1vUo9I0W5vpp4rdYk4kmVmUEnA+VfmY5IAUcscAcmuQsvG2qtpGsTzLDPJo8kE00sml3Nhvtm5kxDMS4ZVVyDkqcD3o6gd9RXG6/4xudL0zVtQjazhsra8t7KC6uFYxxs5QSTSEMMopkAwNvKNkgci14G1vU9es9QudRvNNvraO7aCyu9NgaOK5jVRlwTK+4biV4OMoetC12/rb/NCen9f12OoorD8UarqWlw6cujQW89xe3yWpFyxVVVlYlsj025x3xjjORmPqvimKa00ab+zItUuriYJfm3Y27QRqrbxCJd24lgu0yDGGbOMApO9/wCu3+Y3p/Xr/kdfRXnvia91HWvhTr321dNeaw+0RX0bQytDdLFkkJtlR492FP3m28j5utdB4olcaVp+mW8klv8A2pdR2bSxEho4ypZ8MOVJVGUN2JB60+ife1vn/wAOO36/huXNW8M6brV1Hc3gu47iNDGJbO/ntWKk52sYnUsM8gHOOcdTV+xsbXTbGGysIEt7aBAkcUYwqgdq4/xJr+q+H9TttL8P2+mx2cMdmgSeN+BLP5AVdrAKBkNnn7uMfNlaesalq2oeDNL1d9Re1lTUbeCWKxBiSZvtqRMxOS20qD8m7HzHJbjBHW3Ls3b8Ra3s97HU6h4U0/U757u5uNXSR8ZW21m7t0GBjhI5VUfgOa07KzjsLKO1gaZ44hhWnneZz9Xclm+pJqeigPMKK4LX/FniG08STWGlrpiW63H2ZHuIZHfd9kafcdrqMDYRj+Ld1Xb8zdWnkvzoF9pt/fx6/qf2aeCzivHEEUAKNOXiB2FNhYb3UncygHO0AWu3l+N/8gemj7XO/ooooAKK81m8deJE1CfbFpQtI5rkAGKQyGOC7WAjO8Dcwcc4wpXOG3YXW1JJdO8d6fcQJq9rbz3Oy5u579prScOjBYUgMrbGL7Du8tANpG7nBOq8wejkux2lFc7E39mfEA2kLN5GrWkl28ZbKxyxNGhYDtuWRc9spnqTnoqOiYPcKKKKACiiigAooooAKKKKACiiigAooooAKKKKACiiigAooooAKKKKACiiigAooooAKKKKAMTxPoB8Qw6fAZXjit71Z5TFcSQSFQjjCvGQwOWHQjjPNEnhHR5NC/scR3UVmXaRxBfTxSSs2dxeRXDuWyc7mOe+auavren6FapcarceRHJIIozsZi7kEhQFBJY4wAOScAZJAqmPEEmp6OLvwtaLqEpnMLRXjvZCErnd5odDImMdNhJ3Lxg7gklZr+un/AHro/66/wDBD/hENGPhWbw5LBcT6VMnlvBcXk0p2cfKHZy4HAwAQB2rZijWGFIoxhEUKoz0ArM8Oa1/b+jLePbG1mWWW3mh37wkkbtG4DYG5dynBwMjHA6Vq1T31JtbQKKKKQwrB16x1WXV9J1DRoLO4azaUSxXdy8AKuoGQVjfJGOhA+tb1YOvX2qxavpOn6NPZ27XjSmWW7tnnAVFBwFWRME56kn6UnbqBauPDmlXV4bu4td07S+cW8xx8/lGHOAcfcYj8c9eao33gXQ9RksmuF1BfsCKlqsGq3UKw7VKgqqSABtpI3dSDyadqfjjw/o+oPYX9663UfDRx2sshB2bwvyKfmK5IHU7WxnacRa34ovNKtk1O20yG70RUikmu/tmyTY7Abo49hDgAgncye2aa8v6/rUG+5Pe+Gv7Q8X6XrVxcJ5ekxyC2iSIiQvIu1i8hY7l24+XaDkZyelb1FFAGM3hLRH37rLO8ylv3r8+bKJX793UH2xgYHFQ2/grRrTWp9VtRqEN1cXH2mby9Vuljlk4GWiEmw8ADBXGABjAqJ/iD4Zjv3s21FvPSVoWUWspAZZPLYZC4wrEBjnC7lJwGBLrnxasfjK00K2tPtCSOYrm6EmBBJ5TSqmMHcSqZPIwGXrmhbq39df68wl1v8yW18N+V42vPElzcI881otlDHFEYwsQbf8AOSx3tuJwQFAHGD1rd60UdKOlg63Ma18JaJZi3+zWWz7OsKxfvXO0Q7vL6nnG9uvXPOadpnhjTNKvmvLcXc1yVKCW9vp7pkUnJCGV22AkDIXGcDPQVS074geGdVu7e20/UWmluCoi/wBGlUNuBKncVAAO1gCTgsrL94EVN4e1fWtYVbq80uwtNPlQtDJFqDyynnA3RmFQOM9HOPfrRfXzB+YaPp+qp4m1bU9Vhs4EuY4YLdLa5aYlYzIdzbo02k+YOBnGOtb1YOj6hqr+JtW0zVZrOdLaOGe3e2tmhIWQyDa26R9xHljkYznpW9TErBRRRSGVNT0y01nTZbDUYjLby43KHZCCCCCGUgqQQCCCCCARVPS/C+k6Qt2LO3kY3oC3T3FxJO84AIG9pGYtwSOT0wOgFaVzcRWltJPcMVjjXcxClj+AHJPsOTWTb+L9GuLRrgXE0KJcR2rpc2k0EiSSEBAyOoZQxYYJGOetG+gFLXvCrS+FbbStAjVVtbhJlilvZoWkAYkj7Qu6RGJOd4yTyO5qro2meK9Cs7g28FneNcThksrzXbmZbVQoBK3EkTu5YjO0qoXtnknfvfEel6cL03dyU+wiPzwsTsQZDhFUAHexPAVcnkccim6F4l03xGty2lNct9kl8mYXFlNblHxnbiVFOcEZx0yKF1t/W3/AB9LkVnBqWpuj+JtL0+2a1lWa1NnqElx8+GBJ3RR4wD/tZyemKtavodhrkMUeoxSEwv5kMsE7wSxNgglJIyrLkEg4IyCQeDS6vrenaDbRXGr3SWsUsohR3BIZyCQvA6nHHqcDqRVD/hNND/stL8T3Bjkna2WEWM5uDKoJKeRs83cACxG3oM9OaWj2/r+tA/r+vx/EW78GaJe+H00SWC5TT13Zigvp4TLuzu8xkcNJuLEncTkkk5PNLf8AhmKbw2mmWFzcQy28iz2lzcXElw8cqtvUszsWYZ4ILcqSvAqlr/jK3tvAs+u6JcRuSrCGWeyuZY4nXO7zkiQyRhdrBsgbSMHBrV1rVpNJ0YXEcK3N5KyQ28AbaJZnOFGey5OSewBPam7/AI/j/mHb+vUSXQrPUjFdavaRm82QGTy5nKhon81QDxkB+c4Ge/pVTUPA+h6nZQWdzFeLbW7mSOK31G4gXeX8zcQkg3EPyCc4PTFO1DxbpXh97ez8QX6R3rxoz+TbyFSWO3dwG2qXGBk9SozkjMWoeJrw6Gmr+G9Ni1OzEDzyvcXLWrBV6qqmNm8zgjawQAjBIpNpLyX3Art26/iLrHhNNXfRIXuitlpNzHdKsgeW4eSP7n75nJx13ZDFgeoroqgsbyLUNPtr233eVcxLKm4YO1gCM/ganqndaMSaeqMu48OaVdXpu57XfO0vnF/McfP5RhzgHH3GI/HPXms8+ANAGofboY9QtrjyYoC1tq11CDHGMIpVJACAM9R3J6k1Jqfjjw/o+oyWN/eyLdR8NHHayykHZvC/IpyxXJA6na2M7TiHWPGkFhfaZbafANQN68BldZdqwQyuI0kPBySzcLxkKxzxSjvZf1/Wv4jk9Lvovw/q34Fm78NfbvGmna9c3CY0yGWO1ijiKvukADl33EMuAMKFGDzk9K3aKKOlgMZvCWiPv3WWd5lLfvX582USv37uoPtjAwOKevhnTRrX9qSC7nuVcyILi+nliiYjG5IncohwSMqoIBIHU1Rf4g+GY797NtRbz0laFlFrKQGWTy2GQuMKxAY5wu5ScBgTNZavrV9rlzDFpdgumW1y0D3Lag/nHCg5EXk7epx/rPf2oWr0/r+mwejd/n6lm10uf/hIrvVr6SN2MYt7SNBxDFwzEk9WZuvbCoOxJ1ayrXVJ/wDhIrvSb6ONGEYuLSRDxNFwrAg9GVuvbDIe5A1aFsv6/rXfzB7v+v60CiiigAooooAKKKKACiiigAooooAKKKKACiiigAooooAKKKKACiiigAooooAKKKKACiiigDmPGz3kY0JtNgguLoaqnlxXExiRj5UnVwrEcf7JqhdaF4sh8Pah/Y8+nw6xq999ouz9pkRLeMoqFYZDGx37UUBygGSW29q7aikla/n/AMD/ACG3dry/4P8AmZXhuzn0/Q4LO50+z07yBsSCzumuEC+u9o0JJOScjrzk5rVooqnqSlZWCiiikMK5bxPqlhpHivw7carfW1jATcoJbmZY1LFBgZYgZPpXU0UmrgcdqfhG/vfED38U1sImvftADM27b9ieDH3eu5gfpnvxVO68PeKvO0W2Fpo+oaVpVrBi1m1CWDzLlAB5j4gfcqkAoOOfmOSF297RTWm39Wv/AJg9bX7W+8wb3VNWXxfpenafZrJZPHJJqUskEgES7f3ZSXhGJcYK8tg5wBW9RRQBwM3gTU5DPie0/eNekZdv+W14k6/w9lUg++Oo5qw3gG+g1vTbuy8Uambe31CW8mimW2PLo4IUiDccl9vzNwucEEDHbUUdU+3/AA4pLmbb6u5hWuqarc+NryyW0A0W3tFzcSW8kbm5LcqrNhZE2YOVBAOQT2rcPINLRS3Vh9bnA6N4F1PThpnnT2jfZItPR9jtyYBLvx8vfzBj8c4q5oPhSe08Uf2s2i6LoCrHIskekSs7XrOQd0p8qIfLgkAhzlicrg7uyoqurff/AIC/QHr/AF8/1OU0DUrHU/iB4hk029t7xIbW0hka3lWQJIrT7kJB4Ydx1FdXRRQJKwUUUUhmV4mstR1Hw5d2ui3Qtb2QKEkMhjyNwLLvUEpuUFd4BK5yORXNaN4Iv0sfEMOqyLANXhjjiVNRuL57cqrAHzp/mYgkMOAB0xxk91RR0fmHbyPOPF9hc6d4EM2pXVvaajdarBdXN4tz5UMEiuuw+c0ZCKqxou5oyD02/Nw/wV4q0bTNKv5dc1fTYDLeln1aTVYpYNQkZFyUm8uFWZVCoVVMKFAyTnHolFCur/12/wAv6sDs7f13/wAzmJb3SPGc2nt4f1jS9TXTL+O6uBb3STbBscL93ODk5GcdD6VNrWiXY1Sy1fw9BYteW0khlguWMKXIkRVJMioxVhsTna2QNvGcjoaKVktv62/yDd6/1v8A5nE6l4c8QSeA9T0u1j02fUdZa4a6Mt08UNv5oPCERMX2jA5C7sE8ZwLmux6ofD+naleWMf2zSrxLua0sp3mVoxuR9rFFLkRuWC7eSMDsa6qin0S7Wt8th+vn+O5yOs+H5/EOoxapptzavayrYPG5c/OsV0J2IwCMFenqfQc1nah4X8THRtP0e1i0u70xZZ5dQt5r6S3NyGlZ0j3CF/3eG+YYG7pnbnd39FGy5Vtdv7xa3u9znNX1TW7M6Ha6bp0LXl1cxi8iWOWWGGAf60rMFVVK5G3cAWxgL6dHRRQBx2qeEb+98QPfRS2wia9+0AMzbtv2J4Mfd67mB+me/FZsnw21EaXax2nifULefzrOW4jUW7RKYfLB2FoC/ATKgnGeo5Neh0ULTby/DUJe9a/Zr7zBudS1ZPGWm6ZYW3naf5Ej6jcTW8ilDgeUUk4jYk5BUZI4PAreoooA4GbwJqchnxPafvGvSMu3/La8Sdf4eyqQffHUc1dn8KT3njKLVF0bRdM8m5E7araSFr26UDHlviJNobjdl3GBjHOR2NFHVPt/ncH7zk313OdiX+0/iAbuFW8jSbSS0eQrhZJZWjcqD32rGue2Xx1Bx0VFFHRIHuFFFFABRRRQAUUUUAFFFFABRRRQAUUUUAFFFFABRRRQAUUUUAFFFFABRRRQAUUUUAFFFFAHGf8ACwf+oZ/5Mf8A2NH/AAsH/qGf+TH/ANjRRQAf8LB/6hn/AJMf/Y0f8LB/6hn/AJMf/Y0UUAH/AAsH/qGf+TH/ANjR/wALB/6hn/kx/wDY0UUAH/Cwf+oZ/wCTH/2NH/Cwf+oZ/wCTH/2NFFAB/wALB/6hn/kx/wDY0f8ACwf+oZ/5Mf8A2NFFAB/wsH/qGf8Akx/9jR/wsH/qGf8Akx/9jRRQAf8ACwf+oZ/5Mf8A2NH/AAsH/qGf+TH/ANjRRQAf8LB/6hn/AJMf/Y0f8LB/6hn/AJMf/Y0UUAH/AAsH/qGf+TH/ANjR/wALB/6hn/kx/wDY0UUAH/Cwf+oZ/wCTH/2NH/Cwf+oZ/wCTH/2NFFAB/wALB/6hn/kx/wDY0f8ACwf+oZ/5Mf8A2NFFAB/wsH/qGf8Akx/9jR/wsH/qGf8Akx/9jRRQAf8ACwf+oZ/5Mf8A2NH/AAsH/qGf+TH/ANjRRQAf8LB/6hn/AJMf/Y0f8LB/6hn/AJMf/Y0UUAH/AAsH/qGf+TH/ANjR/wALB/6hn/kx/wDY0UUAH/Cwf+oZ/wCTH/2NH/Cwf+oZ/wCTH/2NFFAB/wALB/6hn/kx/wDY0f8ACwf+oZ/5Mf8A2NFFAB/wsH/qGf8Akx/9jR/wsH/qGf8Akx/9jRRQAf8ACwf+oZ/5Mf8A2NH/AAsH/qGf+TH/ANjRRQAf8LB/6hn/AJMf/Y0f8LB/6hn/AJMf/Y0UUAH/AAsH/qGf+TH/ANjR/wALB/6hn/kx/wDY0UUAH/Cwf+oZ/wCTH/2NH/Cwf+oZ/wCTH/2NFFAB/wALB/6hn/kx/wDY0f8ACwf+oZ/5Mf8A2NFFAB/wsH/qGf8Akx/9jR/wsH/qGf8Akx/9jRRQAf8ACwf+oZ/5Mf8A2NH/AAsH/qGf+TH/ANjRRQAf8LB/6hn/AJMf/Y0f8LB/6hn/AJMf/Y0UUAH/AAsH/qGf+TH/ANjR/wALB/6hn/kx/wDY0UUAH/Cwf+oZ/wCTH/2NH/Cwf+oZ/wCTH/2NFFAB/wALB/6hn/kx/wDY0f8ACwf+oZ/5Mf8A2NFFAB/wsH/qGf8Akx/9jR/wsH/qGf8Akx/9jRRQAf8ACwf+oZ/5Mf8A2NH/AAsH/qGf+TH/ANjRRQAf8LB/6hn/AJMf/Y0f8LB/6hn/AJMf/Y0UUAH/AAsH/qGf+TH/ANjR/wALB/6hn/kx/wDY0UUAH/Cwf+oZ/wCTH/2NFFFAH//Z)"
      ]
    },
    {
      "cell_type": "code",
      "metadata": {
        "id": "Yy_m5rPif8b5"
      },
      "source": [
        "imdb_no_null_crew_df = imdb_df_new[~imdb_df_new['crew'].isna()]"
      ],
      "execution_count": null,
      "outputs": []
    },
    {
      "cell_type": "code",
      "metadata": {
        "colab": {
          "base_uri": "https://localhost:8080/"
        },
        "id": "i7AVaf_ojwgI",
        "outputId": "16eac483-6d96-4c6a-f794-148bc3a4e9dd"
      },
      "source": [
        "imdb_no_null_crew_df.shape"
      ],
      "execution_count": null,
      "outputs": [
        {
          "output_type": "execute_result",
          "data": {
            "text/plain": [
              "(2984, 10)"
            ]
          },
          "metadata": {},
          "execution_count": 42
        }
      ]
    },
    {
      "cell_type": "code",
      "metadata": {
        "id": "-fjJfwDSj2hg"
      },
      "source": [
        "#create fn to get producer and director list from each rows of data\n",
        "def get_producer_and_director(crew):\n",
        "  try:\n",
        "    producers_list = []\n",
        "    directors_list = []\n",
        "    for elem in crew:\n",
        "      if elem['job'] == 'Producer':\n",
        "        producers_list.append(elem[\"name\"])\n",
        "      if elem['job'] == 'Director':\n",
        "        directors_list.append(elem['name'])\n",
        "    return producers_list, directors_list\n",
        "\n",
        "  except:\n",
        "    return [],[]"
      ],
      "execution_count": null,
      "outputs": []
    },
    {
      "cell_type": "code",
      "metadata": {
        "colab": {
          "base_uri": "https://localhost:8080/"
        },
        "id": "Hu1JJmZ0pcsl",
        "outputId": "ef4ea8b5-8c45-4c41-feda-e08ec0d91348"
      },
      "source": [
        "get_producer_and_director(imdb_no_null_crew_df.loc[1,'crew'])"
      ],
      "execution_count": null,
      "outputs": [
        {
          "output_type": "execute_result",
          "data": {
            "text/plain": [
              "(['Whitney Houston', 'Mario Iscovich', 'Debra Martin Chase'],\n",
              " ['Garry Marshall'])"
            ]
          },
          "metadata": {},
          "execution_count": 44
        }
      ]
    },
    {
      "cell_type": "code",
      "metadata": {
        "id": "s_kanfROn9MC"
      },
      "source": [
        "imdb_df_new[['producer','director']] = imdb_df_new.apply(lambda row: get_producer_and_director(row['crew']),axis=1,result_type='expand')"
      ],
      "execution_count": null,
      "outputs": []
    },
    {
      "cell_type": "code",
      "metadata": {
        "id": "QN983ammj31g",
        "colab": {
          "base_uri": "https://localhost:8080/",
          "height": 561
        },
        "outputId": "1879af07-e3b4-4bd8-83f1-6fc8f5a8daf1"
      },
      "source": [
        "imdb_df_new.head()"
      ],
      "execution_count": null,
      "outputs": [
        {
          "output_type": "execute_result",
          "data": {
            "text/html": [
              "<div>\n",
              "<style scoped>\n",
              "    .dataframe tbody tr th:only-of-type {\n",
              "        vertical-align: middle;\n",
              "    }\n",
              "\n",
              "    .dataframe tbody tr th {\n",
              "        vertical-align: top;\n",
              "    }\n",
              "\n",
              "    .dataframe thead th {\n",
              "        text-align: right;\n",
              "    }\n",
              "</style>\n",
              "<table border=\"1\" class=\"dataframe\">\n",
              "  <thead>\n",
              "    <tr style=\"text-align: right;\">\n",
              "      <th></th>\n",
              "      <th>imdb_id</th>\n",
              "      <th>budget</th>\n",
              "      <th>genres</th>\n",
              "      <th>original_language</th>\n",
              "      <th>title</th>\n",
              "      <th>cast</th>\n",
              "      <th>crew</th>\n",
              "      <th>revenue</th>\n",
              "      <th>profit</th>\n",
              "      <th>roi</th>\n",
              "      <th>producer</th>\n",
              "      <th>director</th>\n",
              "    </tr>\n",
              "  </thead>\n",
              "  <tbody>\n",
              "    <tr>\n",
              "      <th>0</th>\n",
              "      <td>tt2637294</td>\n",
              "      <td>14000000</td>\n",
              "      <td>[{'id': 35, 'name': 'Comedy'}]</td>\n",
              "      <td>en</td>\n",
              "      <td>Hot Tub Time Machine 2</td>\n",
              "      <td>[{'cast_id': 4, 'character': 'Lou', 'credit_id...</td>\n",
              "      <td>[{'credit_id': '59ac067c92514107af02c8c8', 'de...</td>\n",
              "      <td>12314651</td>\n",
              "      <td>-1685349</td>\n",
              "      <td>-12.038207</td>\n",
              "      <td>[Andrew Panay]</td>\n",
              "      <td>[Steve Pink]</td>\n",
              "    </tr>\n",
              "    <tr>\n",
              "      <th>1</th>\n",
              "      <td>tt0368933</td>\n",
              "      <td>40000000</td>\n",
              "      <td>[{'id': 35, 'name': 'Comedy'}, {'id': 18, 'nam...</td>\n",
              "      <td>en</td>\n",
              "      <td>The Princess Diaries 2: Royal Engagement</td>\n",
              "      <td>[{'cast_id': 1, 'character': 'Mia Thermopolis'...</td>\n",
              "      <td>[{'credit_id': '52fe43fe9251416c7502563d', 'de...</td>\n",
              "      <td>95149435</td>\n",
              "      <td>55149435</td>\n",
              "      <td>137.873588</td>\n",
              "      <td>[Whitney Houston, Mario Iscovich, Debra Martin...</td>\n",
              "      <td>[Garry Marshall]</td>\n",
              "    </tr>\n",
              "    <tr>\n",
              "      <th>2</th>\n",
              "      <td>tt2582802</td>\n",
              "      <td>3300000</td>\n",
              "      <td>[{'id': 18, 'name': 'Drama'}]</td>\n",
              "      <td>en</td>\n",
              "      <td>Whiplash</td>\n",
              "      <td>[{'cast_id': 5, 'character': 'Andrew Neimann',...</td>\n",
              "      <td>[{'credit_id': '54d5356ec3a3683ba0000039', 'de...</td>\n",
              "      <td>13092000</td>\n",
              "      <td>9792000</td>\n",
              "      <td>296.727273</td>\n",
              "      <td>[David Lancaster, Michel Litvak, Jason Blum, H...</td>\n",
              "      <td>[Damien Chazelle]</td>\n",
              "    </tr>\n",
              "    <tr>\n",
              "      <th>3</th>\n",
              "      <td>tt1821480</td>\n",
              "      <td>1200000</td>\n",
              "      <td>[{'id': 53, 'name': 'Thriller'}, {'id': 18, 'n...</td>\n",
              "      <td>hi</td>\n",
              "      <td>Kahaani</td>\n",
              "      <td>[{'cast_id': 1, 'character': 'Vidya Bagchi', '...</td>\n",
              "      <td>[{'credit_id': '52fe48779251416c9108d6eb', 'de...</td>\n",
              "      <td>16000000</td>\n",
              "      <td>14800000</td>\n",
              "      <td>1233.333333</td>\n",
              "      <td>[Sujoy Ghosh]</td>\n",
              "      <td>[Sujoy Ghosh]</td>\n",
              "    </tr>\n",
              "    <tr>\n",
              "      <th>4</th>\n",
              "      <td>tt1380152</td>\n",
              "      <td>16450000</td>\n",
              "      <td>[{'id': 28, 'name': 'Action'}, {'id': 53, 'nam...</td>\n",
              "      <td>ko</td>\n",
              "      <td>Marine Boy</td>\n",
              "      <td>[{'cast_id': 3, 'character': 'Chun-soo', 'cred...</td>\n",
              "      <td>[{'credit_id': '52fe464b9251416c75073b43', 'de...</td>\n",
              "      <td>3923970</td>\n",
              "      <td>-12526030</td>\n",
              "      <td>-76.146079</td>\n",
              "      <td>[]</td>\n",
              "      <td>[Jong-seok Yoon]</td>\n",
              "    </tr>\n",
              "  </tbody>\n",
              "</table>\n",
              "</div>"
            ],
            "text/plain": [
              "     imdb_id  ...           director\n",
              "0  tt2637294  ...       [Steve Pink]\n",
              "1  tt0368933  ...   [Garry Marshall]\n",
              "2  tt2582802  ...  [Damien Chazelle]\n",
              "3  tt1821480  ...      [Sujoy Ghosh]\n",
              "4  tt1380152  ...   [Jong-seok Yoon]\n",
              "\n",
              "[5 rows x 12 columns]"
            ]
          },
          "metadata": {},
          "execution_count": 46
        }
      ]
    },
    {
      "cell_type": "code",
      "metadata": {
        "id": "KJOLQpgrnBHQ"
      },
      "source": [
        "list_p = []\n",
        "list_roi = []\n",
        "for index,movie in imdb_df_new.iterrows():\n",
        "  for elem in movie['producer']:\n",
        "    list_p.append(elem)\n",
        "    list_roi.append(movie['roi'])"
      ],
      "execution_count": null,
      "outputs": []
    },
    {
      "cell_type": "code",
      "metadata": {
        "colab": {
          "base_uri": "https://localhost:8080/"
        },
        "id": "dxxaJO8Vq8jW",
        "outputId": "aff47d80-ce6d-4fbf-b20d-8afa224f4a90"
      },
      "source": [
        "len(list_p)"
      ],
      "execution_count": null,
      "outputs": [
        {
          "output_type": "execute_result",
          "data": {
            "text/plain": [
              "6011"
            ]
          },
          "metadata": {},
          "execution_count": 48
        }
      ]
    },
    {
      "cell_type": "code",
      "metadata": {
        "colab": {
          "base_uri": "https://localhost:8080/"
        },
        "id": "p7uoS1SDrCPx",
        "outputId": "ff23fb36-369e-4f00-dbf3-e759172e5390"
      },
      "source": [
        "len(list_roi)"
      ],
      "execution_count": null,
      "outputs": [
        {
          "output_type": "execute_result",
          "data": {
            "text/plain": [
              "6011"
            ]
          },
          "metadata": {},
          "execution_count": 49
        }
      ]
    },
    {
      "cell_type": "code",
      "metadata": {
        "id": "ST8CFMJVrGDG"
      },
      "source": [
        "dict_ = {'producer':list_p, 'roi':list_roi}\n",
        "producer_df = pd.DataFrame(dict_)"
      ],
      "execution_count": null,
      "outputs": []
    },
    {
      "cell_type": "code",
      "metadata": {
        "colab": {
          "base_uri": "https://localhost:8080/",
          "height": 204
        },
        "id": "puJ_fTPArfCx",
        "outputId": "c626fbc1-f18b-41ac-9000-876e016a6896"
      },
      "source": [
        "producer_df.head()"
      ],
      "execution_count": null,
      "outputs": [
        {
          "output_type": "execute_result",
          "data": {
            "text/html": [
              "<div>\n",
              "<style scoped>\n",
              "    .dataframe tbody tr th:only-of-type {\n",
              "        vertical-align: middle;\n",
              "    }\n",
              "\n",
              "    .dataframe tbody tr th {\n",
              "        vertical-align: top;\n",
              "    }\n",
              "\n",
              "    .dataframe thead th {\n",
              "        text-align: right;\n",
              "    }\n",
              "</style>\n",
              "<table border=\"1\" class=\"dataframe\">\n",
              "  <thead>\n",
              "    <tr style=\"text-align: right;\">\n",
              "      <th></th>\n",
              "      <th>producer</th>\n",
              "      <th>roi</th>\n",
              "    </tr>\n",
              "  </thead>\n",
              "  <tbody>\n",
              "    <tr>\n",
              "      <th>0</th>\n",
              "      <td>Andrew Panay</td>\n",
              "      <td>-12.038207</td>\n",
              "    </tr>\n",
              "    <tr>\n",
              "      <th>1</th>\n",
              "      <td>Whitney Houston</td>\n",
              "      <td>137.873588</td>\n",
              "    </tr>\n",
              "    <tr>\n",
              "      <th>2</th>\n",
              "      <td>Mario Iscovich</td>\n",
              "      <td>137.873588</td>\n",
              "    </tr>\n",
              "    <tr>\n",
              "      <th>3</th>\n",
              "      <td>Debra Martin Chase</td>\n",
              "      <td>137.873588</td>\n",
              "    </tr>\n",
              "    <tr>\n",
              "      <th>4</th>\n",
              "      <td>David Lancaster</td>\n",
              "      <td>296.727273</td>\n",
              "    </tr>\n",
              "  </tbody>\n",
              "</table>\n",
              "</div>"
            ],
            "text/plain": [
              "             producer         roi\n",
              "0        Andrew Panay  -12.038207\n",
              "1     Whitney Houston  137.873588\n",
              "2      Mario Iscovich  137.873588\n",
              "3  Debra Martin Chase  137.873588\n",
              "4     David Lancaster  296.727273"
            ]
          },
          "metadata": {},
          "execution_count": 51
        }
      ]
    },
    {
      "cell_type": "code",
      "metadata": {
        "id": "4RxXdpMjrkdS"
      },
      "source": [
        "top_producer_roi = producer_df.groupby('producer')['roi'].mean().reset_index()"
      ],
      "execution_count": null,
      "outputs": []
    },
    {
      "cell_type": "code",
      "metadata": {
        "id": "7xrDMx7hr7aM"
      },
      "source": [
        "top_producer_roi = top_producer_roi.sort_values('roi')"
      ],
      "execution_count": null,
      "outputs": []
    },
    {
      "cell_type": "code",
      "metadata": {
        "colab": {
          "base_uri": "https://localhost:8080/",
          "height": 142
        },
        "id": "zVFlJqTrsHdO",
        "outputId": "fc4ba0e1-2460-4ca1-b601-0369a9ad078f"
      },
      "source": [
        "top_producer_roi.tail(3)"
      ],
      "execution_count": null,
      "outputs": [
        {
          "output_type": "execute_result",
          "data": {
            "text/html": [
              "<div>\n",
              "<style scoped>\n",
              "    .dataframe tbody tr th:only-of-type {\n",
              "        vertical-align: middle;\n",
              "    }\n",
              "\n",
              "    .dataframe tbody tr th {\n",
              "        vertical-align: top;\n",
              "    }\n",
              "\n",
              "    .dataframe thead th {\n",
              "        text-align: right;\n",
              "    }\n",
              "</style>\n",
              "<table border=\"1\" class=\"dataframe\">\n",
              "  <thead>\n",
              "    <tr style=\"text-align: right;\">\n",
              "      <th></th>\n",
              "      <th>producer</th>\n",
              "      <th>roi</th>\n",
              "    </tr>\n",
              "  </thead>\n",
              "  <tbody>\n",
              "    <tr>\n",
              "      <th>1185</th>\n",
              "      <td>Gregg Hale</td>\n",
              "      <td>4.132333e+05</td>\n",
              "    </tr>\n",
              "    <tr>\n",
              "      <th>2878</th>\n",
              "      <td>Robin Cowie</td>\n",
              "      <td>4.132333e+05</td>\n",
              "    </tr>\n",
              "    <tr>\n",
              "      <th>146</th>\n",
              "      <td>Amir Zbeda</td>\n",
              "      <td>1.288939e+06</td>\n",
              "    </tr>\n",
              "  </tbody>\n",
              "</table>\n",
              "</div>"
            ],
            "text/plain": [
              "         producer           roi\n",
              "1185   Gregg Hale  4.132333e+05\n",
              "2878  Robin Cowie  4.132333e+05\n",
              "146    Amir Zbeda  1.288939e+06"
            ]
          },
          "metadata": {},
          "execution_count": 54
        }
      ]
    },
    {
      "cell_type": "markdown",
      "metadata": {
        "id": "wndcOt-HgCM4"
      },
      "source": [
        "# **Which actor has acted in the most number of movies? Deep dive into the movies, genres and profits corresponding to this actor.**"
      ]
    },
    {
      "cell_type": "code",
      "metadata": {
        "id": "4Z7OpY2hgEPZ"
      },
      "source": [
        "imdb_no_null_cast_df = imdb_df_new[~imdb_df_new['cast'].isna()]"
      ],
      "execution_count": null,
      "outputs": []
    },
    {
      "cell_type": "code",
      "metadata": {
        "colab": {
          "base_uri": "https://localhost:8080/"
        },
        "id": "nnAjuOpYtNtC",
        "outputId": "aa7f9d99-4f7b-460d-d016-a6826c9d6148"
      },
      "source": [
        "imdb_no_null_cast_df.shape"
      ],
      "execution_count": null,
      "outputs": [
        {
          "output_type": "execute_result",
          "data": {
            "text/plain": [
              "(2987, 12)"
            ]
          },
          "metadata": {},
          "execution_count": 56
        }
      ]
    },
    {
      "cell_type": "code",
      "metadata": {
        "id": "1oM3T1i7tVvR"
      },
      "source": [
        "def get_actors_name(actor):\n",
        "  try:\n",
        "    actors_list = []\n",
        "    for elem in actor:\n",
        "      actors_list.append(elem[\"name\"])\n",
        "    return actors_list\n",
        "\n",
        "  except:\n",
        "    return []"
      ],
      "execution_count": null,
      "outputs": []
    },
    {
      "cell_type": "code",
      "metadata": {
        "id": "_OgWv8OOt0D7"
      },
      "source": [
        "imdb_df_new['actors'] = imdb_df_new.apply(lambda row: get_actors_name(row['cast']),axis=1)"
      ],
      "execution_count": null,
      "outputs": []
    },
    {
      "cell_type": "code",
      "metadata": {
        "colab": {
          "base_uri": "https://localhost:8080/",
          "height": 632
        },
        "id": "-D6oQ3MBuDBx",
        "outputId": "b68167f8-5caf-40e2-d93c-513ce81d6ae3"
      },
      "source": [
        "imdb_df_new.head()"
      ],
      "execution_count": null,
      "outputs": [
        {
          "output_type": "execute_result",
          "data": {
            "text/html": [
              "<div>\n",
              "<style scoped>\n",
              "    .dataframe tbody tr th:only-of-type {\n",
              "        vertical-align: middle;\n",
              "    }\n",
              "\n",
              "    .dataframe tbody tr th {\n",
              "        vertical-align: top;\n",
              "    }\n",
              "\n",
              "    .dataframe thead th {\n",
              "        text-align: right;\n",
              "    }\n",
              "</style>\n",
              "<table border=\"1\" class=\"dataframe\">\n",
              "  <thead>\n",
              "    <tr style=\"text-align: right;\">\n",
              "      <th></th>\n",
              "      <th>imdb_id</th>\n",
              "      <th>budget</th>\n",
              "      <th>genres</th>\n",
              "      <th>original_language</th>\n",
              "      <th>title</th>\n",
              "      <th>cast</th>\n",
              "      <th>crew</th>\n",
              "      <th>revenue</th>\n",
              "      <th>profit</th>\n",
              "      <th>roi</th>\n",
              "      <th>producer</th>\n",
              "      <th>director</th>\n",
              "      <th>actors</th>\n",
              "    </tr>\n",
              "  </thead>\n",
              "  <tbody>\n",
              "    <tr>\n",
              "      <th>0</th>\n",
              "      <td>tt2637294</td>\n",
              "      <td>14000000</td>\n",
              "      <td>[{'id': 35, 'name': 'Comedy'}]</td>\n",
              "      <td>en</td>\n",
              "      <td>Hot Tub Time Machine 2</td>\n",
              "      <td>[{'cast_id': 4, 'character': 'Lou', 'credit_id...</td>\n",
              "      <td>[{'credit_id': '59ac067c92514107af02c8c8', 'de...</td>\n",
              "      <td>12314651</td>\n",
              "      <td>-1685349</td>\n",
              "      <td>-12.038207</td>\n",
              "      <td>[Andrew Panay]</td>\n",
              "      <td>[Steve Pink]</td>\n",
              "      <td>[Rob Corddry, Craig Robinson, Clark Duke, Adam...</td>\n",
              "    </tr>\n",
              "    <tr>\n",
              "      <th>1</th>\n",
              "      <td>tt0368933</td>\n",
              "      <td>40000000</td>\n",
              "      <td>[{'id': 35, 'name': 'Comedy'}, {'id': 18, 'nam...</td>\n",
              "      <td>en</td>\n",
              "      <td>The Princess Diaries 2: Royal Engagement</td>\n",
              "      <td>[{'cast_id': 1, 'character': 'Mia Thermopolis'...</td>\n",
              "      <td>[{'credit_id': '52fe43fe9251416c7502563d', 'de...</td>\n",
              "      <td>95149435</td>\n",
              "      <td>55149435</td>\n",
              "      <td>137.873588</td>\n",
              "      <td>[Whitney Houston, Mario Iscovich, Debra Martin...</td>\n",
              "      <td>[Garry Marshall]</td>\n",
              "      <td>[Anne Hathaway, Julie Andrews, H√©ctor Elizond...</td>\n",
              "    </tr>\n",
              "    <tr>\n",
              "      <th>2</th>\n",
              "      <td>tt2582802</td>\n",
              "      <td>3300000</td>\n",
              "      <td>[{'id': 18, 'name': 'Drama'}]</td>\n",
              "      <td>en</td>\n",
              "      <td>Whiplash</td>\n",
              "      <td>[{'cast_id': 5, 'character': 'Andrew Neimann',...</td>\n",
              "      <td>[{'credit_id': '54d5356ec3a3683ba0000039', 'de...</td>\n",
              "      <td>13092000</td>\n",
              "      <td>9792000</td>\n",
              "      <td>296.727273</td>\n",
              "      <td>[David Lancaster, Michel Litvak, Jason Blum, H...</td>\n",
              "      <td>[Damien Chazelle]</td>\n",
              "      <td>[Miles Teller, J.K. Simmons, Melissa Benoist, ...</td>\n",
              "    </tr>\n",
              "    <tr>\n",
              "      <th>3</th>\n",
              "      <td>tt1821480</td>\n",
              "      <td>1200000</td>\n",
              "      <td>[{'id': 53, 'name': 'Thriller'}, {'id': 18, 'n...</td>\n",
              "      <td>hi</td>\n",
              "      <td>Kahaani</td>\n",
              "      <td>[{'cast_id': 1, 'character': 'Vidya Bagchi', '...</td>\n",
              "      <td>[{'credit_id': '52fe48779251416c9108d6eb', 'de...</td>\n",
              "      <td>16000000</td>\n",
              "      <td>14800000</td>\n",
              "      <td>1233.333333</td>\n",
              "      <td>[Sujoy Ghosh]</td>\n",
              "      <td>[Sujoy Ghosh]</td>\n",
              "      <td>[Vidya Balan, Nawazuddin Siddiqui, Parambrata ...</td>\n",
              "    </tr>\n",
              "    <tr>\n",
              "      <th>4</th>\n",
              "      <td>tt1380152</td>\n",
              "      <td>16450000</td>\n",
              "      <td>[{'id': 28, 'name': 'Action'}, {'id': 53, 'nam...</td>\n",
              "      <td>ko</td>\n",
              "      <td>Marine Boy</td>\n",
              "      <td>[{'cast_id': 3, 'character': 'Chun-soo', 'cred...</td>\n",
              "      <td>[{'credit_id': '52fe464b9251416c75073b43', 'de...</td>\n",
              "      <td>3923970</td>\n",
              "      <td>-12526030</td>\n",
              "      <td>-76.146079</td>\n",
              "      <td>[]</td>\n",
              "      <td>[Jong-seok Yoon]</td>\n",
              "      <td>[Kim Kang-woo, Jo Jae-hyeon, Park Si-yeon, Kim...</td>\n",
              "    </tr>\n",
              "  </tbody>\n",
              "</table>\n",
              "</div>"
            ],
            "text/plain": [
              "     imdb_id  ...                                             actors\n",
              "0  tt2637294  ...  [Rob Corddry, Craig Robinson, Clark Duke, Adam...\n",
              "1  tt0368933  ...  [Anne Hathaway, Julie Andrews, H√©ctor Elizond...\n",
              "2  tt2582802  ...  [Miles Teller, J.K. Simmons, Melissa Benoist, ...\n",
              "3  tt1821480  ...  [Vidya Balan, Nawazuddin Siddiqui, Parambrata ...\n",
              "4  tt1380152  ...  [Kim Kang-woo, Jo Jae-hyeon, Park Si-yeon, Kim...\n",
              "\n",
              "[5 rows x 13 columns]"
            ]
          },
          "metadata": {},
          "execution_count": 59
        }
      ]
    },
    {
      "cell_type": "code",
      "metadata": {
        "colab": {
          "base_uri": "https://localhost:8080/"
        },
        "id": "Z8SfrYC09Xrb",
        "outputId": "5a931a61-8225-4318-9a95-b02462231638"
      },
      "source": [
        "type(imdb_df.loc[0,'genres']) "
      ],
      "execution_count": null,
      "outputs": [
        {
          "output_type": "execute_result",
          "data": {
            "text/plain": [
              "list"
            ]
          },
          "metadata": {},
          "execution_count": 72
        }
      ]
    },
    {
      "cell_type": "code",
      "metadata": {
        "id": "2dajV4SguN8a"
      },
      "source": [
        "list_actor = []\n",
        "list_genres = []\n",
        "list_profit = []\n",
        "for index,movie in imdb_df_new.iterrows():\n",
        "  for elem in movie['actors']:\n",
        "    list_actor.append(elem)\n",
        "    list_profit.append(movie['profit'])\n",
        "    list_genres.append(movie['genres'])"
      ],
      "execution_count": null,
      "outputs": []
    },
    {
      "cell_type": "code",
      "metadata": {
        "colab": {
          "base_uri": "https://localhost:8080/"
        },
        "id": "QqKOcTZNuk64",
        "outputId": "4db599d9-5b21-48cb-87ef-0bfe2f1604e5"
      },
      "source": [
        "len(list_actor)"
      ],
      "execution_count": null,
      "outputs": [
        {
          "output_type": "execute_result",
          "data": {
            "text/plain": [
              "61811"
            ]
          },
          "metadata": {},
          "execution_count": 61
        }
      ]
    },
    {
      "cell_type": "code",
      "metadata": {
        "id": "OTiMNOXsvG-8"
      },
      "source": [
        "unique_actors = set(list_actor)"
      ],
      "execution_count": null,
      "outputs": []
    },
    {
      "cell_type": "code",
      "metadata": {
        "id": "sVLB0UdTvI2B"
      },
      "source": [
        "unique_count = []\n",
        "for i in unique_actors:\n",
        "  unique_count.append(list_actor.count(i))"
      ],
      "execution_count": null,
      "outputs": []
    },
    {
      "cell_type": "code",
      "metadata": {
        "id": "DWfYO6Q5ups2"
      },
      "source": [
        "unique_actor_dict = dict(zip(list(unique_actors),unique_count))"
      ],
      "execution_count": null,
      "outputs": []
    },
    {
      "cell_type": "code",
      "metadata": {
        "id": "oF-c_OMh3lbQ"
      },
      "source": [
        "top_actor_wrt_no_of_movies = max(unique_count)"
      ],
      "execution_count": null,
      "outputs": []
    },
    {
      "cell_type": "code",
      "metadata": {
        "id": "NpFYebpT3zrp"
      },
      "source": [
        "top_actor_list = []\n",
        "for index,value in unique_actor_dict.items():\n",
        "  if value == top_actor_wrt_no_of_movies:\n",
        "    top_actor_list.append(index)\n",
        "    #print(f\"{index} is top actor and acted in total of {value} movies\")"
      ],
      "execution_count": null,
      "outputs": []
    },
    {
      "cell_type": "code",
      "metadata": {
        "id": "yRGUJLSb5tdd"
      },
      "source": [
        "dict_of_actors = {'actors':list_actor, 'genres':list_genres, 'profit':list_profit}\n",
        "actors_df = pd.DataFrame(dict_of_actors)"
      ],
      "execution_count": null,
      "outputs": []
    },
    {
      "cell_type": "code",
      "metadata": {
        "colab": {
          "base_uri": "https://localhost:8080/",
          "height": 204
        },
        "id": "8O66NhGr_JoX",
        "outputId": "9e65d7ee-5df0-43ff-a2cd-614195cdfa54"
      },
      "source": [
        "actors_df.head()"
      ],
      "execution_count": null,
      "outputs": [
        {
          "output_type": "execute_result",
          "data": {
            "text/html": [
              "<div>\n",
              "<style scoped>\n",
              "    .dataframe tbody tr th:only-of-type {\n",
              "        vertical-align: middle;\n",
              "    }\n",
              "\n",
              "    .dataframe tbody tr th {\n",
              "        vertical-align: top;\n",
              "    }\n",
              "\n",
              "    .dataframe thead th {\n",
              "        text-align: right;\n",
              "    }\n",
              "</style>\n",
              "<table border=\"1\" class=\"dataframe\">\n",
              "  <thead>\n",
              "    <tr style=\"text-align: right;\">\n",
              "      <th></th>\n",
              "      <th>actors</th>\n",
              "      <th>genres</th>\n",
              "      <th>profit</th>\n",
              "    </tr>\n",
              "  </thead>\n",
              "  <tbody>\n",
              "    <tr>\n",
              "      <th>0</th>\n",
              "      <td>Rob Corddry</td>\n",
              "      <td>[{'id': 35, 'name': 'Comedy'}]</td>\n",
              "      <td>-1685349</td>\n",
              "    </tr>\n",
              "    <tr>\n",
              "      <th>1</th>\n",
              "      <td>Craig Robinson</td>\n",
              "      <td>[{'id': 35, 'name': 'Comedy'}]</td>\n",
              "      <td>-1685349</td>\n",
              "    </tr>\n",
              "    <tr>\n",
              "      <th>2</th>\n",
              "      <td>Clark Duke</td>\n",
              "      <td>[{'id': 35, 'name': 'Comedy'}]</td>\n",
              "      <td>-1685349</td>\n",
              "    </tr>\n",
              "    <tr>\n",
              "      <th>3</th>\n",
              "      <td>Adam Scott</td>\n",
              "      <td>[{'id': 35, 'name': 'Comedy'}]</td>\n",
              "      <td>-1685349</td>\n",
              "    </tr>\n",
              "    <tr>\n",
              "      <th>4</th>\n",
              "      <td>Chevy Chase</td>\n",
              "      <td>[{'id': 35, 'name': 'Comedy'}]</td>\n",
              "      <td>-1685349</td>\n",
              "    </tr>\n",
              "  </tbody>\n",
              "</table>\n",
              "</div>"
            ],
            "text/plain": [
              "           actors                          genres   profit\n",
              "0     Rob Corddry  [{'id': 35, 'name': 'Comedy'}] -1685349\n",
              "1  Craig Robinson  [{'id': 35, 'name': 'Comedy'}] -1685349\n",
              "2      Clark Duke  [{'id': 35, 'name': 'Comedy'}] -1685349\n",
              "3      Adam Scott  [{'id': 35, 'name': 'Comedy'}] -1685349\n",
              "4     Chevy Chase  [{'id': 35, 'name': 'Comedy'}] -1685349"
            ]
          },
          "metadata": {},
          "execution_count": 78
        }
      ]
    },
    {
      "cell_type": "code",
      "metadata": {
        "id": "zciK_IDK_N8I"
      },
      "source": [
        "def actors_details(actor):\n",
        "  genres = []\n",
        "  net_profit = 0\n",
        "  for index,cols in actors_df.iterrows():\n",
        "    if cols['actors'] == actor:\n",
        "      net_profit = net_profit + cols['profit']\n",
        "      for elem in cols['genres']:\n",
        "        genres.append(elem['name'])\n",
        "  return print(f'{actor} had made {net_profit} net profit in 30 movies and worked in several genres such as {set(genres)}')"
      ],
      "execution_count": null,
      "outputs": []
    },
    {
      "cell_type": "code",
      "metadata": {
        "colab": {
          "base_uri": "https://localhost:8080/"
        },
        "id": "efAbwPpNBKoO",
        "outputId": "1aab07a9-efcc-436a-c62c-4a3f959e1c6d"
      },
      "source": [
        "for actor in top_actor_list:\n",
        "  actors_details(actor)"
      ],
      "execution_count": null,
      "outputs": [
        {
          "output_type": "stream",
          "text": [
            "Robert De Niro had made 802612528 net profit in 30 movies and worked in several genres such as {'Horror', 'Crime', 'Thriller', 'Mystery', 'War', 'Comedy', 'Documentary', 'History', 'Action', 'Drama', 'Romance'}\n",
            "Samuel L. Jackson had made 6730538676 net profit in 30 movies and worked in several genres such as {'Horror', 'Romance', 'Crime', 'Thriller', 'Science Fiction', 'Mystery', 'Fantasy', 'Family', 'Animation', 'Comedy', 'Documentary', 'Action', 'Western', 'Drama', 'Adventure'}\n"
          ],
          "name": "stdout"
        }
      ]
    },
    {
      "cell_type": "markdown",
      "metadata": {
        "id": "28F84zw4gEq_"
      },
      "source": [
        "# **Top 3 directors prefer which actors the most?**"
      ]
    },
    {
      "cell_type": "code",
      "metadata": {
        "id": "DFj3dwt-gLLD",
        "colab": {
          "base_uri": "https://localhost:8080/",
          "height": 632
        },
        "outputId": "470f7325-8dc3-4219-da6c-58b3c5c0e235"
      },
      "source": [
        "imdb_df_new.head()"
      ],
      "execution_count": null,
      "outputs": [
        {
          "output_type": "execute_result",
          "data": {
            "text/html": [
              "<div>\n",
              "<style scoped>\n",
              "    .dataframe tbody tr th:only-of-type {\n",
              "        vertical-align: middle;\n",
              "    }\n",
              "\n",
              "    .dataframe tbody tr th {\n",
              "        vertical-align: top;\n",
              "    }\n",
              "\n",
              "    .dataframe thead th {\n",
              "        text-align: right;\n",
              "    }\n",
              "</style>\n",
              "<table border=\"1\" class=\"dataframe\">\n",
              "  <thead>\n",
              "    <tr style=\"text-align: right;\">\n",
              "      <th></th>\n",
              "      <th>imdb_id</th>\n",
              "      <th>budget</th>\n",
              "      <th>genres</th>\n",
              "      <th>original_language</th>\n",
              "      <th>title</th>\n",
              "      <th>cast</th>\n",
              "      <th>crew</th>\n",
              "      <th>revenue</th>\n",
              "      <th>profit</th>\n",
              "      <th>roi</th>\n",
              "      <th>producer</th>\n",
              "      <th>director</th>\n",
              "      <th>actors</th>\n",
              "    </tr>\n",
              "  </thead>\n",
              "  <tbody>\n",
              "    <tr>\n",
              "      <th>0</th>\n",
              "      <td>tt2637294</td>\n",
              "      <td>14000000</td>\n",
              "      <td>[{'id': 35, 'name': 'Comedy'}]</td>\n",
              "      <td>en</td>\n",
              "      <td>Hot Tub Time Machine 2</td>\n",
              "      <td>[{'cast_id': 4, 'character': 'Lou', 'credit_id...</td>\n",
              "      <td>[{'credit_id': '59ac067c92514107af02c8c8', 'de...</td>\n",
              "      <td>12314651</td>\n",
              "      <td>-1685349</td>\n",
              "      <td>-12.038207</td>\n",
              "      <td>[Andrew Panay]</td>\n",
              "      <td>[Steve Pink]</td>\n",
              "      <td>[Rob Corddry, Craig Robinson, Clark Duke, Adam...</td>\n",
              "    </tr>\n",
              "    <tr>\n",
              "      <th>1</th>\n",
              "      <td>tt0368933</td>\n",
              "      <td>40000000</td>\n",
              "      <td>[{'id': 35, 'name': 'Comedy'}, {'id': 18, 'nam...</td>\n",
              "      <td>en</td>\n",
              "      <td>The Princess Diaries 2: Royal Engagement</td>\n",
              "      <td>[{'cast_id': 1, 'character': 'Mia Thermopolis'...</td>\n",
              "      <td>[{'credit_id': '52fe43fe9251416c7502563d', 'de...</td>\n",
              "      <td>95149435</td>\n",
              "      <td>55149435</td>\n",
              "      <td>137.873588</td>\n",
              "      <td>[Whitney Houston, Mario Iscovich, Debra Martin...</td>\n",
              "      <td>[Garry Marshall]</td>\n",
              "      <td>[Anne Hathaway, Julie Andrews, H√©ctor Elizond...</td>\n",
              "    </tr>\n",
              "    <tr>\n",
              "      <th>2</th>\n",
              "      <td>tt2582802</td>\n",
              "      <td>3300000</td>\n",
              "      <td>[{'id': 18, 'name': 'Drama'}]</td>\n",
              "      <td>en</td>\n",
              "      <td>Whiplash</td>\n",
              "      <td>[{'cast_id': 5, 'character': 'Andrew Neimann',...</td>\n",
              "      <td>[{'credit_id': '54d5356ec3a3683ba0000039', 'de...</td>\n",
              "      <td>13092000</td>\n",
              "      <td>9792000</td>\n",
              "      <td>296.727273</td>\n",
              "      <td>[David Lancaster, Michel Litvak, Jason Blum, H...</td>\n",
              "      <td>[Damien Chazelle]</td>\n",
              "      <td>[Miles Teller, J.K. Simmons, Melissa Benoist, ...</td>\n",
              "    </tr>\n",
              "    <tr>\n",
              "      <th>3</th>\n",
              "      <td>tt1821480</td>\n",
              "      <td>1200000</td>\n",
              "      <td>[{'id': 53, 'name': 'Thriller'}, {'id': 18, 'n...</td>\n",
              "      <td>hi</td>\n",
              "      <td>Kahaani</td>\n",
              "      <td>[{'cast_id': 1, 'character': 'Vidya Bagchi', '...</td>\n",
              "      <td>[{'credit_id': '52fe48779251416c9108d6eb', 'de...</td>\n",
              "      <td>16000000</td>\n",
              "      <td>14800000</td>\n",
              "      <td>1233.333333</td>\n",
              "      <td>[Sujoy Ghosh]</td>\n",
              "      <td>[Sujoy Ghosh]</td>\n",
              "      <td>[Vidya Balan, Nawazuddin Siddiqui, Parambrata ...</td>\n",
              "    </tr>\n",
              "    <tr>\n",
              "      <th>4</th>\n",
              "      <td>tt1380152</td>\n",
              "      <td>16450000</td>\n",
              "      <td>[{'id': 28, 'name': 'Action'}, {'id': 53, 'nam...</td>\n",
              "      <td>ko</td>\n",
              "      <td>Marine Boy</td>\n",
              "      <td>[{'cast_id': 3, 'character': 'Chun-soo', 'cred...</td>\n",
              "      <td>[{'credit_id': '52fe464b9251416c75073b43', 'de...</td>\n",
              "      <td>3923970</td>\n",
              "      <td>-12526030</td>\n",
              "      <td>-76.146079</td>\n",
              "      <td>[]</td>\n",
              "      <td>[Jong-seok Yoon]</td>\n",
              "      <td>[Kim Kang-woo, Jo Jae-hyeon, Park Si-yeon, Kim...</td>\n",
              "    </tr>\n",
              "  </tbody>\n",
              "</table>\n",
              "</div>"
            ],
            "text/plain": [
              "     imdb_id  ...                                             actors\n",
              "0  tt2637294  ...  [Rob Corddry, Craig Robinson, Clark Duke, Adam...\n",
              "1  tt0368933  ...  [Anne Hathaway, Julie Andrews, H√©ctor Elizond...\n",
              "2  tt2582802  ...  [Miles Teller, J.K. Simmons, Melissa Benoist, ...\n",
              "3  tt1821480  ...  [Vidya Balan, Nawazuddin Siddiqui, Parambrata ...\n",
              "4  tt1380152  ...  [Kim Kang-woo, Jo Jae-hyeon, Park Si-yeon, Kim...\n",
              "\n",
              "[5 rows x 13 columns]"
            ]
          },
          "metadata": {},
          "execution_count": 90
        }
      ]
    },
    {
      "cell_type": "code",
      "metadata": {
        "id": "4pRZ9sNfEUeL"
      },
      "source": [
        "list_director = []\n",
        "list_actors = []\n",
        "list_roi = []\n",
        "for index, cols in imdb_df_new.iterrows():\n",
        "  for elem in cols['director']:\n",
        "    list_director.append(elem)\n",
        "    list_actors.append(cols['actors'])\n",
        "    list_roi.append(cols['roi'])\n",
        "\n"
      ],
      "execution_count": null,
      "outputs": []
    },
    {
      "cell_type": "code",
      "metadata": {
        "id": "4RKzepydHwSt"
      },
      "source": [
        "director_dict = {'director':list_director, 'actors':list_actors, 'roi':list_roi}\n",
        "director_df = pd.DataFrame(director_dict)"
      ],
      "execution_count": null,
      "outputs": []
    },
    {
      "cell_type": "code",
      "metadata": {
        "colab": {
          "base_uri": "https://localhost:8080/",
          "height": 204
        },
        "id": "SrVEqtqDIQkO",
        "outputId": "b9d2adb4-d1fc-428a-8dfc-d5644faff651"
      },
      "source": [
        "director_df.head()"
      ],
      "execution_count": null,
      "outputs": [
        {
          "output_type": "execute_result",
          "data": {
            "text/html": [
              "<div>\n",
              "<style scoped>\n",
              "    .dataframe tbody tr th:only-of-type {\n",
              "        vertical-align: middle;\n",
              "    }\n",
              "\n",
              "    .dataframe tbody tr th {\n",
              "        vertical-align: top;\n",
              "    }\n",
              "\n",
              "    .dataframe thead th {\n",
              "        text-align: right;\n",
              "    }\n",
              "</style>\n",
              "<table border=\"1\" class=\"dataframe\">\n",
              "  <thead>\n",
              "    <tr style=\"text-align: right;\">\n",
              "      <th></th>\n",
              "      <th>director</th>\n",
              "      <th>actors</th>\n",
              "      <th>roi</th>\n",
              "    </tr>\n",
              "  </thead>\n",
              "  <tbody>\n",
              "    <tr>\n",
              "      <th>0</th>\n",
              "      <td>Steve Pink</td>\n",
              "      <td>[Rob Corddry, Craig Robinson, Clark Duke, Adam...</td>\n",
              "      <td>-12.038207</td>\n",
              "    </tr>\n",
              "    <tr>\n",
              "      <th>1</th>\n",
              "      <td>Garry Marshall</td>\n",
              "      <td>[Anne Hathaway, Julie Andrews, H√©ctor Elizond...</td>\n",
              "      <td>137.873588</td>\n",
              "    </tr>\n",
              "    <tr>\n",
              "      <th>2</th>\n",
              "      <td>Damien Chazelle</td>\n",
              "      <td>[Miles Teller, J.K. Simmons, Melissa Benoist, ...</td>\n",
              "      <td>296.727273</td>\n",
              "    </tr>\n",
              "    <tr>\n",
              "      <th>3</th>\n",
              "      <td>Sujoy Ghosh</td>\n",
              "      <td>[Vidya Balan, Nawazuddin Siddiqui, Parambrata ...</td>\n",
              "      <td>1233.333333</td>\n",
              "    </tr>\n",
              "    <tr>\n",
              "      <th>4</th>\n",
              "      <td>Jong-seok Yoon</td>\n",
              "      <td>[Kim Kang-woo, Jo Jae-hyeon, Park Si-yeon, Kim...</td>\n",
              "      <td>-76.146079</td>\n",
              "    </tr>\n",
              "  </tbody>\n",
              "</table>\n",
              "</div>"
            ],
            "text/plain": [
              "          director  ...          roi\n",
              "0       Steve Pink  ...   -12.038207\n",
              "1   Garry Marshall  ...   137.873588\n",
              "2  Damien Chazelle  ...   296.727273\n",
              "3      Sujoy Ghosh  ...  1233.333333\n",
              "4   Jong-seok Yoon  ...   -76.146079\n",
              "\n",
              "[5 rows x 3 columns]"
            ]
          },
          "metadata": {},
          "execution_count": 98
        }
      ]
    },
    {
      "cell_type": "code",
      "metadata": {
        "id": "j06aNHvPIVFw"
      },
      "source": [
        "director_avg_roi_df = director_df.groupby('director')['roi'].mean().reset_index()"
      ],
      "execution_count": null,
      "outputs": []
    },
    {
      "cell_type": "code",
      "metadata": {
        "colab": {
          "base_uri": "https://localhost:8080/",
          "height": 204
        },
        "id": "6G9TnA3FIs2f",
        "outputId": "263f893f-70d8-480a-dc6f-e14ecf75e67d"
      },
      "source": [
        "director_avg_roi_df.head()"
      ],
      "execution_count": null,
      "outputs": [
        {
          "output_type": "execute_result",
          "data": {
            "text/html": [
              "<div>\n",
              "<style scoped>\n",
              "    .dataframe tbody tr th:only-of-type {\n",
              "        vertical-align: middle;\n",
              "    }\n",
              "\n",
              "    .dataframe tbody tr th {\n",
              "        vertical-align: top;\n",
              "    }\n",
              "\n",
              "    .dataframe thead th {\n",
              "        text-align: right;\n",
              "    }\n",
              "</style>\n",
              "<table border=\"1\" class=\"dataframe\">\n",
              "  <thead>\n",
              "    <tr style=\"text-align: right;\">\n",
              "      <th></th>\n",
              "      <th>director</th>\n",
              "      <th>roi</th>\n",
              "    </tr>\n",
              "  </thead>\n",
              "  <tbody>\n",
              "    <tr>\n",
              "      <th>0</th>\n",
              "      <td>A.J. Edwards</td>\n",
              "      <td>-99.568888</td>\n",
              "    </tr>\n",
              "    <tr>\n",
              "      <th>1</th>\n",
              "      <td>A.R. Murugadoss</td>\n",
              "      <td>735.164835</td>\n",
              "    </tr>\n",
              "    <tr>\n",
              "      <th>2</th>\n",
              "      <td>Aaron Katz</td>\n",
              "      <td>517.000000</td>\n",
              "    </tr>\n",
              "    <tr>\n",
              "      <th>3</th>\n",
              "      <td>Aaron Norris</td>\n",
              "      <td>-60.813793</td>\n",
              "    </tr>\n",
              "    <tr>\n",
              "      <th>4</th>\n",
              "      <td>Aaron Seltzer</td>\n",
              "      <td>302.739330</td>\n",
              "    </tr>\n",
              "  </tbody>\n",
              "</table>\n",
              "</div>"
            ],
            "text/plain": [
              "          director         roi\n",
              "0     A.J. Edwards  -99.568888\n",
              "1  A.R. Murugadoss  735.164835\n",
              "2       Aaron Katz  517.000000\n",
              "3     Aaron Norris  -60.813793\n",
              "4    Aaron Seltzer  302.739330"
            ]
          },
          "metadata": {},
          "execution_count": 100
        }
      ]
    },
    {
      "cell_type": "code",
      "metadata": {
        "id": "Y65rir_sI_mf"
      },
      "source": [
        "max_roi_dircetor = director_avg_roi_df.sort_values('roi')"
      ],
      "execution_count": null,
      "outputs": []
    },
    {
      "cell_type": "code",
      "metadata": {
        "colab": {
          "base_uri": "https://localhost:8080/",
          "height": 142
        },
        "id": "pIsZ82YWKIIG",
        "outputId": "11ba5de1-be99-4f65-b51b-e3535c2b5a81"
      },
      "source": [
        "max_roi_dircetor.tail(3)"
      ],
      "execution_count": null,
      "outputs": [
        {
          "output_type": "execute_result",
          "data": {
            "text/html": [
              "<div>\n",
              "<style scoped>\n",
              "    .dataframe tbody tr th:only-of-type {\n",
              "        vertical-align: middle;\n",
              "    }\n",
              "\n",
              "    .dataframe tbody tr th {\n",
              "        vertical-align: top;\n",
              "    }\n",
              "\n",
              "    .dataframe thead th {\n",
              "        text-align: right;\n",
              "    }\n",
              "</style>\n",
              "<table border=\"1\" class=\"dataframe\">\n",
              "  <thead>\n",
              "    <tr style=\"text-align: right;\">\n",
              "      <th></th>\n",
              "      <th>director</th>\n",
              "      <th>roi</th>\n",
              "    </tr>\n",
              "  </thead>\n",
              "  <tbody>\n",
              "    <tr>\n",
              "      <th>1423</th>\n",
              "      <td>Park Hoon-Jung</td>\n",
              "      <td>2.215690e+05</td>\n",
              "    </tr>\n",
              "    <tr>\n",
              "      <th>390</th>\n",
              "      <td>Daniel Myrick</td>\n",
              "      <td>4.132333e+05</td>\n",
              "    </tr>\n",
              "    <tr>\n",
              "      <th>1412</th>\n",
              "      <td>Oren Peli</td>\n",
              "      <td>1.288939e+06</td>\n",
              "    </tr>\n",
              "  </tbody>\n",
              "</table>\n",
              "</div>"
            ],
            "text/plain": [
              "            director           roi\n",
              "1423  Park Hoon-Jung  2.215690e+05\n",
              "390    Daniel Myrick  4.132333e+05\n",
              "1412       Oren Peli  1.288939e+06"
            ]
          },
          "metadata": {},
          "execution_count": 107
        }
      ]
    },
    {
      "cell_type": "code",
      "metadata": {
        "id": "05lC-t6PKmB7"
      },
      "source": [
        "# actors preferd by top three director are\n",
        "def actors_prefered_by_directors(elem):\n",
        "  prefered_actors = []\n",
        "  for index,cols in director_df.iterrows():\n",
        "    if cols['director'] == elem:\n",
        "      for elem in cols['actors']:\n",
        "        prefered_actors.append(elem)\n",
        "  return print(f'{elem} preferd actors are {set(prefered_actors)}')"
      ],
      "execution_count": null,
      "outputs": []
    },
    {
      "cell_type": "code",
      "metadata": {
        "id": "xMDY-39EMMqt"
      },
      "source": [
        "top_3_directors = ['Park Hoon-Jung','Daniel Myrick','Oren Peli']"
      ],
      "execution_count": null,
      "outputs": []
    },
    {
      "cell_type": "code",
      "metadata": {
        "colab": {
          "base_uri": "https://localhost:8080/"
        },
        "id": "Q3_rKhp0Mgu_",
        "outputId": "bf334695-239a-407a-8b22-d00c34264d05"
      },
      "source": [
        "for directors in top_3_directors:\n",
        "  actors_prefered_by_directors(directors)"
      ],
      "execution_count": null,
      "outputs": [
        {
          "output_type": "stream",
          "text": [
            "Lee Eun-woo preferd actors are {'Lee Eun-woo', 'Jung Suk-won', 'Jeong Man-sik', 'Sung Yu-bin', 'Kim Sang-ho', 'Choi Min-sik'}\n",
            "Jackie Hallex preferd actors are {'Jim King', 'Joshua Leonard', 'Michael C. Williams', 'Jackie Hallex', 'Bob Griffith', 'Ed Swanson', 'Mark Mason', 'Heather Donahue', 'Patricia DeCou', 'Sandra S√°nchez'}\n",
            "Ashley Palmer preferd actors are {'Katie Featherston', 'Micah Sloat', 'Ashley Palmer', 'Mark Fredrichs', 'Amber Armstrong'}\n"
          ],
          "name": "stdout"
        }
      ]
    },
    {
      "cell_type": "code",
      "metadata": {
        "id": "qvBnC9wBLzKB"
      },
      "source": [
        ""
      ],
      "execution_count": null,
      "outputs": []
    }
  ]
}